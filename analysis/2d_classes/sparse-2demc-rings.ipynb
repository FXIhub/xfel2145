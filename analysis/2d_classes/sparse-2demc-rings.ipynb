{
 "cells": [
  {
   "cell_type": "code",
   "execution_count": null,
   "metadata": {},
   "outputs": [],
   "source": [
    "import h5py, sys, os\n",
    "import numpy as np\n",
    "import matplotlib.pyplot as plt\n",
    "import matplotlib.colors as colors\n",
    "import matplotlib.cm as cm"
   ]
  },
  {
   "cell_type": "code",
   "execution_count": null,
   "metadata": {},
   "outputs": [],
   "source": [
    "sys.path.append('/mnt/cbis/home/benedikt/.local/dragonfly/utils/py_src')"
   ]
  },
  {
   "cell_type": "code",
   "execution_count": null,
   "metadata": {},
   "outputs": [],
   "source": [
    "import writeemc\n",
    "import detector\n",
    "import reademc"
   ]
  },
  {
   "cell_type": "code",
   "execution_count": null,
   "metadata": {},
   "outputs": [],
   "source": [
    "path_to_data = \"../../data/sparse/\" # scratch/sparse on Maxwell\n",
    "path_to_aux = \"../../data/aux/\" # scratch/benedikt/aux on Maxwell\n",
    "path_to_geometry = \"../../geometry/\"\n",
    "path_to_recons = \"../../data/recons/\""
   ]
  },
  {
   "cell_type": "markdown",
   "metadata": {},
   "source": [
    "## Reading metadata"
   ]
  },
  {
   "cell_type": "code",
   "execution_count": null,
   "metadata": {},
   "outputs": [],
   "source": [
    "with h5py.File(path_to_aux + \"sparse_hits_metadata.h5\", \"r\") as f:\n",
    "    cells = f['cells'][:]\n",
    "    score = f['scores'][:]\n",
    "    train = f['train'][:]"
   ]
  },
  {
   "cell_type": "markdown",
   "metadata": {},
   "source": [
    "## Reading from 2D EMC classes"
   ]
  },
  {
   "cell_type": "code",
   "execution_count": null,
   "metadata": {},
   "outputs": [],
   "source": [
    "emc_folder = path_to_recons + \"melv_0001/\"\n",
    "emc_output = emc_folder + \"data/r0/output_040.h5\"\n",
    "emc_photons = emc_folder + 'photons.txt'\n",
    "emc_detector = path_to_recons + \"det/det_lowq7.h5\""
   ]
  },
  {
   "cell_type": "code",
   "execution_count": null,
   "metadata": {},
   "outputs": [],
   "source": [
    "photons_list = list(np.loadtxt(emc_photons, dtype=str))\n",
    "photons_list = [emc_folder + p for p in photons_list]"
   ]
  },
  {
   "cell_type": "code",
   "execution_count": null,
   "metadata": {},
   "outputs": [],
   "source": [
    "det = detector.Detector(emc_detector, mask_flag=True)\n",
    "emc = reademc.EMCReader(photons_list, det)"
   ]
  },
  {
   "cell_type": "code",
   "execution_count": null,
   "metadata": {},
   "outputs": [],
   "source": [
    "with h5py.File(emc_output,'r') as f:\n",
    "    occupancies = f['occupancies'][:]\n",
    "    likelihood = f['likelihood'][:]\n",
    "    orientations = f['orientations'][:]\n",
    "    images = f['intens'][:]"
   ]
  },
  {
   "cell_type": "code",
   "execution_count": null,
   "metadata": {},
   "outputs": [],
   "source": [
    "modes = orientations % occupancies.shape[1]\n",
    "ndata = len(modes)"
   ]
  },
  {
   "cell_type": "code",
   "execution_count": null,
   "metadata": {},
   "outputs": [],
   "source": [
    "fig, axes = plt.subplots(nrows=3, ncols=5, figsize=(20,12), dpi=200)\n",
    "for i in range(15):\n",
    "    c,r = i//5, i%5\n",
    "    axes[c,r].axis('off')\n",
    "    nclass = (modes==i).sum()\n",
    "    axes[c,r].set_title(\"%d/%d [%.1f%%]\" %(nclass,ndata, nclass/ndata*100.))\n",
    "    axes[c,r].imshow(images[i], norm=colors.LogNorm(vmin=0.001, vmax=3), cmap='cividis')\n",
    "plt.show()"
   ]
  },
  {
   "cell_type": "code",
   "execution_count": null,
   "metadata": {},
   "outputs": [],
   "source": [
    "rings = (modes == 13)\n",
    "cellid_rings  = cells[rings]\n",
    "scores_rings  = score[rings]\n",
    "trainid_rings = train[rings]\n",
    "index_rings   = np.where(rings)[0]"
   ]
  },
  {
   "cell_type": "code",
   "execution_count": null,
   "metadata": {},
   "outputs": [],
   "source": [
    "images_rings  = np.array([emc.get_frame(i) for i in index_rings])\n",
    "modules_rings = np.array([emc.get_frame(i, raw=True) for i in index_rings])"
   ]
  },
  {
   "cell_type": "code",
   "execution_count": null,
   "metadata": {},
   "outputs": [],
   "source": [
    "nrphot_rings = np.array([images_rings[i][np.bool8(det.mask)].sum() for i in range(images_rings.shape[0])])"
   ]
  },
  {
   "cell_type": "code",
   "execution_count": null,
   "metadata": {},
   "outputs": [],
   "source": [
    "plt.figure(figsize=(10,5), dpi=100)\n",
    "plt.title(\"All hits (blue) vs. %d ring-like hits (red)\" %rings.sum())\n",
    "plt.plot(train-train[0], cells, marker='.', color='lightblue', lw=0, ms=1, alpha=0.1)\n",
    "plt.plot(trainid_rings-train[0], cellid_rings, marker='.', color='r', lw=0, ms=1, alpha=1)\n",
    "plt.xlabel(\"rel. Train ID\")\n",
    "plt.ylabel(\"Cell ID\")\n",
    "plt.show()"
   ]
  },
  {
   "cell_type": "code",
   "execution_count": null,
   "metadata": {},
   "outputs": [],
   "source": [
    "plt.figure(figsize=(10,5), dpi=100)\n",
    "plt.title(\"All hits (blue) vs. %d ring-like hits (red)\" %rings.sum())\n",
    "plt.plot(train-train[0], score, marker='.', color='lightblue', lw=0, ms=2, alpha=0.5)\n",
    "plt.plot(trainid_rings-train[0], scores_rings, marker='.', color='r', lw=0, ms=1, alpha=1)\n",
    "plt.semilogy()\n",
    "plt.xlabel(\"rel. Train ID\")\n",
    "plt.ylabel(\"Nr. of lit pixel\")\n",
    "plt.show()"
   ]
  },
  {
   "cell_type": "code",
   "execution_count": null,
   "metadata": {},
   "outputs": [],
   "source": [
    "first  = np.argsort(nrphot_rings)[::-1][:50]\n",
    "second = np.argsort(nrphot_rings)[::-1][50:100]\n",
    "third  = np.argsort(nrphot_rings)[::-1][100:150]"
   ]
  },
  {
   "cell_type": "code",
   "execution_count": null,
   "metadata": {},
   "outputs": [],
   "source": [
    "fig, axes = plt.subplots(nrows=5, ncols=10, figsize=(10,5), dpi=300)\n",
    "fig.suptitle(\"Ring-like features - strongest (0-49)\", y=0.95)\n",
    "cmap = cm.get_cmap('inferno')\n",
    "cmap.set_bad('0.75')\n",
    "cmap.set_under('1.0')\n",
    "for j in range(50):\n",
    "    c,r = j//10, j%10\n",
    "    axes[c,r].set_xticks([])\n",
    "    axes[c,r].set_yticks([])\n",
    "    axes[c,r].set_title(\"nphot=%d\" %(nrphot_rings[first[j]]), color='0.5', fontsize=5, pad=2)\n",
    "    mimg = np.ma.masked_array(np.float64(images_rings[first[j]]), mask=1-det.mask)\n",
    "    mimg.data[mimg.data==0] = 1e-10\n",
    "    axes[c,r].imshow(mimg, norm=colors.LogNorm(vmin=1, vmax=100), cmap=cmap)\n",
    "#plt.savefig(\"../../plots/r%04d_best_shots.png\" %run, bbox_inches='tight')\n",
    "plt.show()"
   ]
  },
  {
   "cell_type": "code",
   "execution_count": null,
   "metadata": {},
   "outputs": [],
   "source": [
    "fig, axes = plt.subplots(nrows=5, ncols=10, figsize=(10,5), dpi=300)\n",
    "fig.suptitle(\"Ring-like features - strongest (50-99)\", y=0.95)\n",
    "cmap = cm.get_cmap('inferno')\n",
    "cmap.set_bad('0.75')\n",
    "cmap.set_under('1.0')\n",
    "for j in range(50):\n",
    "    c,r = j//10, j%10\n",
    "    axes[c,r].set_xticks([])\n",
    "    axes[c,r].set_yticks([])\n",
    "    axes[c,r].set_title(\"nphot=%d\" %(nrphot_rings[second[j]]), color='0.5', fontsize=5, pad=2)\n",
    "    mimg = np.ma.masked_array(np.float64(images_rings[second[j]]), mask=1-det.mask)\n",
    "    mimg.data[mimg.data==0] = 1e-10\n",
    "    axes[c,r].imshow(mimg, norm=colors.LogNorm(vmin=1, vmax=100), cmap=cmap)\n",
    "#plt.savefig(\"../../plots/r%04d_best_shots.png\" %run, bbox_inches='tight')\n",
    "plt.show()"
   ]
  },
  {
   "cell_type": "code",
   "execution_count": null,
   "metadata": {},
   "outputs": [],
   "source": [
    "fig, axes = plt.subplots(nrows=5, ncols=10, figsize=(10,5), dpi=300)\n",
    "fig.suptitle(\"Ring-like features - strongest (100-149)\", y=0.95)\n",
    "cmap = cm.get_cmap('inferno')\n",
    "cmap.set_bad('0.75')\n",
    "cmap.set_under('1.0')\n",
    "for j in range(50):\n",
    "    c,r = j//10, j%10\n",
    "    axes[c,r].set_xticks([])\n",
    "    axes[c,r].set_yticks([])\n",
    "    axes[c,r].set_title(\"nphot=%d\" %(nrphot_rings[third[j]]), color='0.5', fontsize=5, pad=2)\n",
    "    mimg = np.ma.masked_array(np.float64(images_rings[third[j]]), mask=1-det.mask)\n",
    "    mimg.data[mimg.data==0] = 1e-10\n",
    "    axes[c,r].imshow(mimg, norm=colors.LogNorm(vmin=1, vmax=100), cmap=cmap)\n",
    "#plt.savefig(\"../../plots/r%04d_best_shots.png\" %run, bbox_inches='tight')\n",
    "plt.show()"
   ]
  },
  {
   "cell_type": "code",
   "execution_count": null,
   "metadata": {},
   "outputs": [],
   "source": [
    "fig, axes = plt.subplots(nrows=5, ncols=10, figsize=(10,5), dpi=300)\n",
    "fig.suptitle(\"Ring-like features - weakest (last 50)\", y=0.95)\n",
    "cmap = cm.get_cmap('inferno')\n",
    "cmap.set_bad('0.75')\n",
    "cmap.set_under('1.0')\n",
    "for j in range(50):\n",
    "    c,r = j//10, j%10\n",
    "    axes[c,r].set_xticks([])\n",
    "    axes[c,r].set_yticks([])\n",
    "    axes[c,r].set_title(\"nphot=%d\" %(nrphot_rings[weak[j]]), color='0.5', fontsize=5, pad=2)\n",
    "    mimg = np.ma.masked_array(np.float64(images_rings[weak[j]]), mask=1-det.mask)\n",
    "    mimg.data[mimg.data==0] = 1e-10\n",
    "    axes[c,r].imshow(mimg, norm=colors.LogNorm(vmin=1, vmax=100), cmap=cmap)\n",
    "#plt.savefig(\"../../plots/r%04d_best_shots.png\" %run, bbox_inches='tight')\n",
    "plt.show()"
   ]
  },
  {
   "cell_type": "code",
   "execution_count": null,
   "metadata": {},
   "outputs": [],
   "source": [
    "rmax = 150\n",
    "radialavg = np.zeros((len(nrphot_rings),rmax))\n",
    "index = np.argsort(nrphot_rings)[::-1]\n",
    "qr = np.round(np.sqrt(det.qx**2 + det.qy**2))\n",
    "for j in range(len(nrphot_rings)):\n",
    "    for r in range(rmax):\n",
    "        radialavg[j,r] = modules_rings[index[j]][(qr == r) & (det.raw_mask == 0)].mean()"
   ]
  },
  {
   "cell_type": "code",
   "execution_count": null,
   "metadata": {},
   "outputs": [],
   "source": [
    "radialavg[radialavg==0] = 1e-5\n",
    "radialavg[np.isnan(radialavg)] = 1e-5"
   ]
  },
  {
   "cell_type": "code",
   "execution_count": null,
   "metadata": {},
   "outputs": [],
   "source": [
    "distance = 0.705 #[m]\n",
    "wavelength = 1240. / 6010. #[nm]\n",
    "pixelsize = 200e-6 #[m]\n",
    "q_to_x = lambda q: np.tan(2.*np.arcsin(wavelength * q / 2.)) * distance / pixelsize\n",
    "x_to_q = lambda x: (2*np.sin(np.arctan2(x*pixelsize, distance)/2.)) / wavelength "
   ]
  },
  {
   "cell_type": "code",
   "execution_count": null,
   "metadata": {},
   "outputs": [],
   "source": [
    "plt.figure(figsize=(15,5), dpi=100)\n",
    "plt.imshow(radialavg[:], aspect='auto', norm=colors.LogNorm(vmin=0.01, vmax=5), cmap='cividis', interpolation='nearest')\n",
    "plt.xticks(range(120)[::20], labels=[\"%.2f\" %(x_to_q(i)/2.) for i in range(120)[::20]])\n",
    "plt.axvline(46, color='r', ls=':')\n",
    "plt.text(46,-10,\"%.2f nm\" %(1./x_to_q(46)/2.), ha='center', color='r')\n",
    "plt.xlabel(r'Radial spatial frequency [nm$^{-1}$]')\n",
    "plt.ylabel(\"ring-like events sorted by total nr. photons\")\n",
    "plt.colorbar(label='Nr. of photons')\n",
    "plt.show()"
   ]
  },
  {
   "cell_type": "code",
   "execution_count": null,
   "metadata": {},
   "outputs": [],
   "source": [
    "plt.figure(figsize=(10,2))\n",
    "plt.title(\"Average over first 500 events\")\n",
    "plt.plot(x_to_q(np.arange(150))/2., radialavg[:500].mean(axis=0))\n",
    "plt.ylim(0,0.5)\n",
    "plt.xlim(0,x_to_q(150)/2.)\n",
    "plt.axvline(x_to_q(46)/2., color='r', ls=':')\n",
    "plt.xlabel(r'Radial spatial frequency [nm$^{-1}$]')\n",
    "plt.show()"
   ]
  },
  {
   "cell_type": "code",
   "execution_count": null,
   "metadata": {},
   "outputs": [],
   "source": [
    "plt.figure(figsize=(10,2))\n",
    "plt.title(\"Average over last 500 events\")\n",
    "plt.plot(x_to_q(np.arange(150))/2., radialavg[-500:].mean(axis=0))\n",
    "plt.ylim(0,0.05)\n",
    "plt.xlim(0,x_to_q(150)/2.)\n",
    "plt.axvline(x_to_q(46)/2., color='r', ls=':')\n",
    "plt.xlabel(r'Radial spatial frequency [nm$^{-1}$]')\n",
    "plt.show()"
   ]
  }
 ],
 "metadata": {
  "kernelspec": {
   "display_name": "Python 3",
   "language": "python",
   "name": "python3"
  },
  "language_info": {
   "codemirror_mode": {
    "name": "ipython",
    "version": 3
   },
   "file_extension": ".py",
   "mimetype": "text/x-python",
   "name": "python",
   "nbconvert_exporter": "python",
   "pygments_lexer": "ipython3",
   "version": "3.6.7"
  }
 },
 "nbformat": 4,
 "nbformat_minor": 2
}
