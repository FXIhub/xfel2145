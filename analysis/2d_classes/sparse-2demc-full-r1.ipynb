{
 "cells": [
  {
   "cell_type": "code",
   "execution_count": null,
   "metadata": {},
   "outputs": [],
   "source": [
    "import h5py, sys, os\n",
    "import numpy as np\n",
    "import matplotlib.pyplot as plt\n",
    "import matplotlib.colors as colors\n",
    "import matplotlib.cm as cm\n",
    "%matplotlib tk"
   ]
  },
  {
   "cell_type": "code",
   "execution_count": null,
   "metadata": {},
   "outputs": [],
   "source": [
    "sys.path.append('/mnt/cbis/home/benedikt/.local/dragonfly/utils/py_src')"
   ]
  },
  {
   "cell_type": "code",
   "execution_count": null,
   "metadata": {},
   "outputs": [],
   "source": [
    "import writeemc\n",
    "import detector\n",
    "import reademc"
   ]
  },
  {
   "cell_type": "code",
   "execution_count": null,
   "metadata": {},
   "outputs": [],
   "source": [
    "path_to_data = \"../../data/sparse/\" # scratch/sparse on Maxwell\n",
    "path_to_aux = \"../../data/aux/\" # scratch/benedikt/aux on Maxwell\n",
    "path_to_geometry = \"../../geometry/\"\n",
    "path_to_recons = \"../../data/recons/\""
   ]
  },
  {
   "cell_type": "markdown",
   "metadata": {},
   "source": [
    "## Reading metadata"
   ]
  },
  {
   "cell_type": "code",
   "execution_count": null,
   "metadata": {},
   "outputs": [],
   "source": [
    "with h5py.File(path_to_aux + \"sparse_hits_metadata.h5\", \"r\") as f:\n",
    "    cells = f['cells'][:]"
   ]
  },
  {
   "cell_type": "markdown",
   "metadata": {},
   "source": [
    "## Reading 2D EMC classes (round 1)"
   ]
  },
  {
   "cell_type": "code",
   "execution_count": null,
   "metadata": {},
   "outputs": [],
   "source": [
    "emc_folder = path_to_recons + \"melv_0001/\"\n",
    "emc_output = emc_folder + \"data/r1/output_040.h5\"\n",
    "emc_photons = emc_folder + 'photons.txt'\n",
    "emc_detector = path_to_recons + \"det/det_lowq6.h5\""
   ]
  },
  {
   "cell_type": "code",
   "execution_count": null,
   "metadata": {},
   "outputs": [],
   "source": [
    "photons_list = list(np.loadtxt(emc_photons, dtype=str))\n",
    "photons_list = [emc_folder + p for p in photons_list]"
   ]
  },
  {
   "cell_type": "code",
   "execution_count": null,
   "metadata": {},
   "outputs": [],
   "source": [
    "det = detector.Detector(emc_detector, mask_flag=True)\n",
    "emc = reademc.EMCReader(photons_list, det)"
   ]
  },
  {
   "cell_type": "code",
   "execution_count": null,
   "metadata": {},
   "outputs": [],
   "source": [
    "with h5py.File(emc_output,'r') as f:\n",
    "    occupancies = f['occupancies'][:]\n",
    "    likelihood = f['likelihood'][:]\n",
    "    orientations = f['orientations'][:]\n",
    "    images = f['intens'][:]\n",
    "    print(list(f))"
   ]
  },
  {
   "cell_type": "code",
   "execution_count": null,
   "metadata": {},
   "outputs": [],
   "source": [
    "nr_rot = 180\n",
    "nr_static = 1\n",
    "nr_modes = occupancies.shape[1] - nr_static\n",
    "modes = orientations % (nr_modes)\n",
    "rotind = orientations // (nr_modes)\n",
    "modes[rotind >= nr_rot] = orientations[rotind >= nr_rot] - nr_modes * (nr_rot - 1)\n",
    "ndata = len(modes)"
   ]
  },
  {
   "cell_type": "code",
   "execution_count": null,
   "metadata": {},
   "outputs": [],
   "source": [
    "fig, axes = plt.subplots(nrows=3, ncols=5, figsize=(20,12), dpi=200)\n",
    "for i in range(15):\n",
    "    c,r = i//5, i%5\n",
    "    axes[c,r].axis('off')\n",
    "    nclass = (modes==i).sum()\n",
    "    axes[c,r].set_title(\"%d/%d [%.1f%%]\" %(nclass,ndata, nclass/ndata*100.))\n",
    "    axes[c,r].imshow(images[i], norm=colors.LogNorm(vmin=0.0001, vmax=3), cmap='cividis')\n",
    "plt.savefig(\"../../plots/2dclasses.png\", bbox_inches='tight')\n",
    "plt.show()"
   ]
  },
  {
   "cell_type": "markdown",
   "metadata": {},
   "source": [
    "## Static class"
   ]
  },
  {
   "cell_type": "code",
   "execution_count": null,
   "metadata": {},
   "outputs": [],
   "source": [
    "plt.figure(figsize=(5,5), dpi=100)\n",
    "plt.axis('off')\n",
    "plt.imshow(images[-1], norm=colors.LogNorm(vmin=0.0001, vmax=3), cmap='cividis')\n",
    "plt.show()"
   ]
  },
  {
   "cell_type": "markdown",
   "metadata": {},
   "source": [
    "## Check cell ids for static class"
   ]
  },
  {
   "cell_type": "code",
   "execution_count": null,
   "metadata": {},
   "outputs": [],
   "source": [
    "m = 15\n",
    "cell_ids_in_static = [((modes == m) & (cells == c)).sum() for c in range(150)]"
   ]
  },
  {
   "cell_type": "code",
   "execution_count": null,
   "metadata": {},
   "outputs": [],
   "source": [
    "plt.figure()\n",
    "plt.title(\"Static class occupancy\")\n",
    "plt.bar(range(150), cell_ids_in_static)\n",
    "plt.xlabel(\"cell\")\n",
    "plt.show()"
   ]
  },
  {
   "cell_type": "markdown",
   "metadata": {},
   "source": [
    "## Check frames of static class"
   ]
  },
  {
   "cell_type": "code",
   "execution_count": null,
   "metadata": {},
   "outputs": [],
   "source": [
    "m = 15\n",
    "c = 10\n",
    "view_index = np.where((modes == m) & (cells <= c))[0]\n",
    "views_assembled = np.array([emc.get_frame(i) for i in view_index])\n",
    "views_modules = np.array([emc.get_frame(i, raw=True) for i in view_index])\n",
    "views_modules = views_modules.reshape((-1,4,128,128))"
   ]
  },
  {
   "cell_type": "code",
   "execution_count": null,
   "metadata": {},
   "outputs": [],
   "source": [
    "assembled_std = views_assembled.std(axis=0)\n",
    "assembled_sum = views_assembled.sum(axis=0)\n",
    "powder_std = views_modules.std(axis=0)\n",
    "powder_sum = views_modules.sum(axis=0)"
   ]
  },
  {
   "cell_type": "code",
   "execution_count": null,
   "metadata": {},
   "outputs": [],
   "source": [
    "cmap = cm.get_cmap('inferno')\n",
    "cmap.set_bad('0.75')\n",
    "cmap.set_under('0.0')\n",
    "mimg = np.ma.masked_array(np.float64(assembled_sum), mask=1-det.mask)\n",
    "mimg.data[mimg.data==0] = 1e-10\n",
    "plt.figure(figsize=(14,10))\n",
    "plt.axis(\"off\")\n",
    "plt.title(\"static class - cell %d - %d frames\" %(c, len(view_index)))\n",
    "plt.imshow(mimg, norm=colors.LogNorm(vmin=0.001), cmap=cmap)\n",
    "plt.colorbar()\n",
    "plt.savefig(\"../../plots/2demc_badpix_static_cell_%d.png\" %(c), bbox_inches='tight')\n",
    "plt.show()"
   ]
  },
  {
   "cell_type": "markdown",
   "metadata": {},
   "source": [
    "## Improve the lowq mask"
   ]
  },
  {
   "cell_type": "code",
   "execution_count": null,
   "metadata": {},
   "outputs": [],
   "source": [
    "with h5py.File(path_to_recons + \"det/det_lowq6.h5\", \"r\") as f:\n",
    "    mask = f['mask'][:].reshape((4,128,128))\n",
    "new_mask = mask.copy()"
   ]
  },
  {
   "cell_type": "code",
   "execution_count": null,
   "metadata": {},
   "outputs": [],
   "source": [
    "# from cell 1\n",
    "new_mask[0,107:108+1,16:107+1] = 2\n",
    "new_mask[0,109,106] = 2\n",
    "new_mask[0,109,108] = 2\n",
    "new_mask[0,114,109] = 2\n",
    "new_mask[0,116,108] = 2\n",
    "new_mask[0,120,107] = 2\n",
    "new_mask[0,123,104] = 2\n",
    "new_mask[0,125,103] = 2\n",
    "new_mask[0,125,106] = 2"
   ]
  },
  {
   "cell_type": "code",
   "execution_count": null,
   "metadata": {},
   "outputs": [],
   "source": [
    "# from cell 2\n",
    "new_mask[3,125,57:58+1] = 2\n",
    "new_mask[3,126,58:59+1] = 2\n",
    "new_mask[3,124,42] = 2\n",
    "new_mask[3,122,41:42+1] = 2\n",
    "new_mask[3,114:118+1,37] = 2\n",
    "new_mask[3,114:117+1,36] = 2\n",
    "new_mask[3,115,35] = 2\n",
    "new_mask[3,111,35] = 2\n",
    "new_mask[3,109,34:36+1] = 2\n",
    "new_mask[3,106:108+1,33:36+1] = 2\n",
    "new_mask[3,105,34] = 2"
   ]
  },
  {
   "cell_type": "code",
   "execution_count": null,
   "metadata": {},
   "outputs": [],
   "source": [
    "# from cell 12\n",
    "new_mask[3,110,35] = 2\n",
    "new_mask[3,90,27] = 2\n",
    "new_mask[3,68,40] = 2\n",
    "new_mask[3,20,67] = 2\n",
    "new_mask[3,34,116] = 2\n",
    "new_mask[3,105,103] = 2"
   ]
  },
  {
   "cell_type": "code",
   "execution_count": null,
   "metadata": {},
   "outputs": [],
   "source": [
    "%matplotlib notebook\n",
    "plt.figure()\n",
    "plt.imshow(powder_sum[3] * (new_mask[3]==0), vmax=500)\n",
    "plt.show()"
   ]
  },
  {
   "cell_type": "code",
   "execution_count": null,
   "metadata": {},
   "outputs": [],
   "source": [
    "new_detector = path_to_recons + \"det/det_lowq7.h5\"\n",
    "os.system(\"cp %s %s\" %(emc_detector, new_detector))\n",
    "with h5py.File(new_detector, \"a\") as f:\n",
    "    f['mask'][:] = new_mask.ravel()"
   ]
  },
  {
   "cell_type": "markdown",
   "metadata": {},
   "source": [
    "## Further improve the lowq mask"
   ]
  },
  {
   "cell_type": "code",
   "execution_count": null,
   "metadata": {},
   "outputs": [],
   "source": [
    "# dead pixels from cells 0 - 10\n",
    "new_mask[powder_sum == 0] = 2\n",
    "# hot pixels from cells 0 - 10\n",
    "new_mask[powder_sum > 500] = 2"
   ]
  },
  {
   "cell_type": "code",
   "execution_count": null,
   "metadata": {},
   "outputs": [],
   "source": [
    "%matplotlib notebook\n",
    "plt.figure()\n",
    "plt.imshow(powder_sum[3] * (new_mask[3]==0), vmax=500)\n",
    "plt.show()"
   ]
  },
  {
   "cell_type": "code",
   "execution_count": null,
   "metadata": {},
   "outputs": [],
   "source": [
    "new_detector = path_to_recons + \"det/det_lowq8.h5\"\n",
    "os.system(\"cp %s %s\" %(emc_detector, new_detector))\n",
    "with h5py.File(new_detector, \"a\") as f:\n",
    "    f['mask'][:] = new_mask.ravel()"
   ]
  },
  {
   "cell_type": "code",
   "execution_count": null,
   "metadata": {},
   "outputs": [],
   "source": []
  }
 ],
 "metadata": {
  "kernelspec": {
   "display_name": "Python 3",
   "language": "python",
   "name": "python3"
  },
  "language_info": {
   "codemirror_mode": {
    "name": "ipython",
    "version": 3
   },
   "file_extension": ".py",
   "mimetype": "text/x-python",
   "name": "python",
   "nbconvert_exporter": "python",
   "pygments_lexer": "ipython3",
   "version": "3.6.7"
  }
 },
 "nbformat": 4,
 "nbformat_minor": 2
}
