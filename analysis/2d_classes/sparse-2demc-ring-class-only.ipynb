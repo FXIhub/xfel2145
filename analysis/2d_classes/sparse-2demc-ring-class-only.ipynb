{
 "cells": [
  {
   "cell_type": "code",
   "execution_count": null,
   "metadata": {},
   "outputs": [],
   "source": [
    "import h5py, sys, os\n",
    "import numpy as np\n",
    "import matplotlib.pyplot as plt\n",
    "import matplotlib.colors as colors\n",
    "import matplotlib.cm as cm"
   ]
  },
  {
   "cell_type": "code",
   "execution_count": null,
   "metadata": {},
   "outputs": [],
   "source": [
    "sys.path.append('/mnt/cbis/home/benedikt/.local/dragonfly/utils/py_src')"
   ]
  },
  {
   "cell_type": "code",
   "execution_count": null,
   "metadata": {},
   "outputs": [],
   "source": [
    "import writeemc\n",
    "import detector\n",
    "import reademc"
   ]
  },
  {
   "cell_type": "code",
   "execution_count": null,
   "metadata": {},
   "outputs": [],
   "source": [
    "path_to_data = \"../../data/sparse/\" # scratch/sparse on Maxwell\n",
    "path_to_aux = \"../../data/aux/\" # scratch/benedikt/aux on Maxwell\n",
    "path_to_geometry = \"../../geometry/\"\n",
    "path_to_recons = \"../../data/recons/\""
   ]
  },
  {
   "cell_type": "markdown",
   "metadata": {},
   "source": [
    "## Reading metadata"
   ]
  },
  {
   "cell_type": "code",
   "execution_count": null,
   "metadata": {},
   "outputs": [],
   "source": [
    "with h5py.File(path_to_aux + \"sparse_hits_metadata.h5\", \"r\") as f:\n",
    "    cells = f['cells'][:]\n",
    "    score = f['scores'][:]\n",
    "    train = f['train'][:]"
   ]
  },
  {
   "cell_type": "markdown",
   "metadata": {},
   "source": [
    "## Reading 2D EMC ring classes (round 0)"
   ]
  },
  {
   "cell_type": "code",
   "execution_count": null,
   "metadata": {},
   "outputs": [],
   "source": [
    "emc_folder = path_to_recons + \"ring_0000/\"\n",
    "emc_output = emc_folder + \"data/r0/output_060.h5\"\n",
    "emc_photons = emc_folder + 'photons.txt'\n",
    "emc_detector = path_to_recons + \"det/det_2145_lowq1.h5\""
   ]
  },
  {
   "cell_type": "code",
   "execution_count": null,
   "metadata": {},
   "outputs": [],
   "source": [
    "photons_list = list(np.loadtxt(emc_photons, dtype=str))\n",
    "photons_list = [emc_folder + p for p in photons_list]"
   ]
  },
  {
   "cell_type": "code",
   "execution_count": null,
   "metadata": {},
   "outputs": [],
   "source": [
    "det = detector.Detector(emc_detector, mask_flag=True)\n",
    "emc = reademc.EMCReader(photons_list, det)"
   ]
  },
  {
   "cell_type": "code",
   "execution_count": null,
   "metadata": {},
   "outputs": [],
   "source": [
    "with h5py.File(emc_output,'r') as f:\n",
    "    occupancies = f['occupancies'][:]\n",
    "    likelihood = f['likelihood'][:]\n",
    "    orientations = f['orientations'][:]\n",
    "    images = f['intens'][:]\n",
    "    scale = f['scale'][:]"
   ]
  },
  {
   "cell_type": "code",
   "execution_count": null,
   "metadata": {},
   "outputs": [],
   "source": [
    "modes = orientations % occupancies.shape[1]\n",
    "blacklisted = (occupancies == 0).all(axis=1)\n",
    "ndata = len(modes) - blacklisted.sum()"
   ]
  },
  {
   "cell_type": "code",
   "execution_count": null,
   "metadata": {},
   "outputs": [],
   "source": [
    "images[images<1e-21] = 0"
   ]
  },
  {
   "cell_type": "code",
   "execution_count": null,
   "metadata": {},
   "outputs": [],
   "source": [
    "N = occupancies.shape[1]\n",
    "ncols = 5\n",
    "nrows = N//ncols\n",
    "fig, axes = plt.subplots(nrows=nrows, ncols=ncols, figsize=(ncols*4,nrows*4), dpi=200)\n",
    "for i in range(N):\n",
    "    c,r = i//ncols, i%ncols\n",
    "    axes[c,r].axis('off')\n",
    "    nclass = ((modes==i) & (~blacklisted)).sum()\n",
    "    axes[c,r].set_title(\"%d/%d [%.1f%%]\" %(nclass,ndata, nclass/ndata*100.))\n",
    "    axes[c,r].imshow(images[i], norm=colors.LogNorm(vmin=0.0001, vmax=3), cmap='cividis')\n",
    "    axes[c,r].text(0,0, \"%d\" %i, color='r')\n",
    "plt.show()"
   ]
  },
  {
   "cell_type": "markdown",
   "metadata": {},
   "source": [
    "## Select fiber-like diffraction patterns"
   ]
  },
  {
   "cell_type": "code",
   "execution_count": null,
   "metadata": {},
   "outputs": [],
   "source": [
    "fiber = (modes == 10)\n",
    "cellid_fiber  = cells[fiber]\n",
    "scores_fiber  = score[fiber]\n",
    "trainid_fiber = train[fiber]\n",
    "index_fiber   = np.where(fiber)[0]"
   ]
  },
  {
   "cell_type": "code",
   "execution_count": null,
   "metadata": {},
   "outputs": [],
   "source": [
    "images_fiber  = np.array([emc.get_frame(i) for i in index_fiber])\n",
    "modules_fiber = np.array([emc.get_frame(i, raw=True) for i in index_fiber])"
   ]
  },
  {
   "cell_type": "code",
   "execution_count": null,
   "metadata": {},
   "outputs": [],
   "source": [
    "nrphot_fiber = np.array([images_fiber[i][np.bool8(det.mask)].sum() for i in range(images_fiber.shape[0])])"
   ]
  },
  {
   "cell_type": "code",
   "execution_count": null,
   "metadata": {},
   "outputs": [],
   "source": [
    "first  = np.argsort(nrphot_fiber)[::-1][:50]"
   ]
  },
  {
   "cell_type": "code",
   "execution_count": null,
   "metadata": {},
   "outputs": [],
   "source": [
    "fig, axes = plt.subplots(nrows=5, ncols=10, figsize=(10,5), dpi=300)\n",
    "fig.suptitle(\"Fiber-like features - strongest (0-49)\", y=0.95)\n",
    "cmap = cm.get_cmap('inferno')\n",
    "cmap.set_bad('0.75')\n",
    "cmap.set_under('1.0')\n",
    "for j in range(50):\n",
    "    c,r = j//10, j%10\n",
    "    axes[c,r].set_xticks([])\n",
    "    axes[c,r].set_yticks([])\n",
    "    axes[c,r].set_title(\"nphot=%d\" %(nrphot_fiber[first[j]]), color='0.5', fontsize=5, pad=2)\n",
    "    mimg = np.ma.masked_array(np.float64(images_fiber[first[j]]), mask=1-det.mask)\n",
    "    mimg.data[mimg.data==0] = 1e-10\n",
    "    axes[c,r].imshow(mimg, norm=colors.LogNorm(vmin=1, vmax=100), cmap=cmap)\n",
    "#plt.savefig(\"../../plots/r%04d_best_shots.png\" %run, bbox_inches='tight')\n",
    "plt.show()"
   ]
  },
  {
   "cell_type": "markdown",
   "metadata": {},
   "source": [
    "## Radial averages"
   ]
  },
  {
   "cell_type": "code",
   "execution_count": null,
   "metadata": {},
   "outputs": [],
   "source": [
    "import spimage"
   ]
  },
  {
   "cell_type": "code",
   "execution_count": null,
   "metadata": {},
   "outputs": [],
   "source": [
    "distance = 0.705 #[m]\n",
    "wavelength = 1240. / 6010. #[nm]\n",
    "pixelsize = 200e-6 #[m]\n",
    "q_to_x = lambda q: np.tan(2.*np.arcsin(wavelength * q / 2.)) * distance / pixelsize\n",
    "x_to_q = lambda x: (2*np.sin(np.arctan2(x*pixelsize, distance)/2.)) / wavelength "
   ]
  },
  {
   "cell_type": "code",
   "execution_count": null,
   "metadata": {},
   "outputs": [],
   "source": [
    "NUM_COLORS = occupancies.shape[1]\n",
    "cmap = plt.get_cmap('tab20')\n",
    "fig = plt.figure(figsize=(10,5), dpi=200)\n",
    "ax = fig.add_subplot(111)\n",
    "ax.set_prop_cycle(color=[cmap(1.*i/NUM_COLORS) for i in range(NUM_COLORS)])\n",
    "for i in range(occupancies.shape[1]):\n",
    "    centers, radial = spimage.radialMeanImage(images[i], cx=images.shape[2]//2, cy=images.shape[1]//2, output_r=True)\n",
    "    ax.plot(x_to_q(centers), radial, label='%d' %i)\n",
    "ax.set_ylim(0, 0.1)\n",
    "ax.axvspan(1./(11), 1./(7), color='0.75', ls='-', alpha=0.5)\n",
    "ax.axvline(1./(8.4), color='k', ls=':')\n",
    "ax.legend(frameon=0)\n",
    "ax.set_xlabel(r'Radial spatial frequency [nm$^{-1}$]')\n",
    "plt.show()"
   ]
  },
  {
   "cell_type": "code",
   "execution_count": null,
   "metadata": {},
   "outputs": [],
   "source": []
  }
 ],
 "metadata": {
  "kernelspec": {
   "display_name": "Python 3",
   "language": "python",
   "name": "python3"
  },
  "language_info": {
   "codemirror_mode": {
    "name": "ipython",
    "version": 3
   },
   "file_extension": ".py",
   "mimetype": "text/x-python",
   "name": "python",
   "nbconvert_exporter": "python",
   "pygments_lexer": "ipython3",
   "version": "3.6.7"
  }
 },
 "nbformat": 4,
 "nbformat_minor": 2
}
