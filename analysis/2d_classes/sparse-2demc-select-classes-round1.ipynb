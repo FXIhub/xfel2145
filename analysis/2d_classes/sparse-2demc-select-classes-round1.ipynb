{
 "cells": [
  {
   "cell_type": "code",
   "execution_count": null,
   "metadata": {},
   "outputs": [],
   "source": [
    "import h5py, sys, os\n",
    "import numpy as np\n",
    "import matplotlib.pyplot as plt\n",
    "import matplotlib.colors as colors\n",
    "import matplotlib.cm as cm"
   ]
  },
  {
   "cell_type": "code",
   "execution_count": null,
   "metadata": {},
   "outputs": [],
   "source": [
    "sys.path.append('/mnt/cbis/home/benedikt/.local/dragonfly/utils/py_src')"
   ]
  },
  {
   "cell_type": "code",
   "execution_count": null,
   "metadata": {},
   "outputs": [],
   "source": [
    "import writeemc\n",
    "import detector\n",
    "import reademc"
   ]
  },
  {
   "cell_type": "code",
   "execution_count": null,
   "metadata": {},
   "outputs": [],
   "source": [
    "path_to_data = \"../../data/sparse/\" # scratch/sparse on Maxwell\n",
    "path_to_aux = \"../../data/aux/\" # scratch/benedikt/aux on Maxwell\n",
    "path_to_geometry = \"../../geometry/\"\n",
    "path_to_recons = \"../../data/recons/\""
   ]
  },
  {
   "cell_type": "markdown",
   "metadata": {},
   "source": [
    "## Load EMC reconstruction"
   ]
  },
  {
   "cell_type": "code",
   "execution_count": null,
   "metadata": {},
   "outputs": [],
   "source": [
    "rr = 1"
   ]
  },
  {
   "cell_type": "code",
   "execution_count": null,
   "metadata": {},
   "outputs": [],
   "source": [
    "emc_folder = path_to_recons + \"melv_0001/\"\n",
    "emc_output = emc_folder + \"data/r%d/output_060.h5\" %rr\n",
    "emc_photons = emc_folder + 'photons.txt'\n",
    "emc_detector = path_to_recons + \"det/det_lowq8.h5\""
   ]
  },
  {
   "cell_type": "code",
   "execution_count": null,
   "metadata": {},
   "outputs": [],
   "source": [
    "with h5py.File(emc_output,'r') as f:\n",
    "    occupancies = f['occupancies'][:]\n",
    "    likelihood = f['likelihood'][:]\n",
    "    orientations = f['orientations'][:]\n",
    "    images = f['intens'][:]"
   ]
  },
  {
   "cell_type": "markdown",
   "metadata": {},
   "source": [
    "## Determine modes"
   ]
  },
  {
   "cell_type": "code",
   "execution_count": null,
   "metadata": {},
   "outputs": [],
   "source": [
    "nr_rot = 180\n",
    "nr_static = 5\n",
    "nr_modes = occupancies.shape[1] - nr_static\n",
    "modes = orientations % (nr_modes)\n",
    "rotind = orientations // (nr_modes)\n",
    "modes[rotind >= nr_rot] = orientations[rotind >= nr_rot] - nr_modes * (nr_rot - 1)\n",
    "blacklisted = (occupancies == 0).all(axis=1)\n",
    "ndata = len(modes) - blacklisted.sum()"
   ]
  },
  {
   "cell_type": "markdown",
   "metadata": {},
   "source": [
    "## Inspect 2D classes"
   ]
  },
  {
   "cell_type": "code",
   "execution_count": null,
   "metadata": {},
   "outputs": [],
   "source": [
    "N = occupancies.shape[1]\n",
    "ncols = 8\n",
    "nrows = N//ncols\n",
    "fig, axes = plt.subplots(nrows=nrows, ncols=ncols, figsize=(ncols*4,nrows*4), dpi=200)\n",
    "for i in range(N):\n",
    "    c,r = i//ncols, i%ncols\n",
    "    axes[c,r].axis('off')\n",
    "    nclass = ((modes==i) & (~blacklisted)).sum()\n",
    "    axes[c,r].set_title(\"%d/%d [%.1f%%]\" %(nclass,ndata, nclass/ndata*100.))\n",
    "    axes[c,r].imshow(images[i], norm=colors.LogNorm(vmin=0.0001, vmax=3), cmap='cividis')\n",
    "    axes[c,r].text(0,0, \"%d\" %i, color='r')\n",
    "plt.savefig(\"../../plots/2dclasses.png\", bbox_inches='tight')\n",
    "plt.show()"
   ]
  },
  {
   "cell_type": "markdown",
   "metadata": {},
   "source": [
    "## Inspect static classes"
   ]
  },
  {
   "cell_type": "code",
   "execution_count": null,
   "metadata": {},
   "outputs": [],
   "source": [
    "fig, axes = plt.subplots(ncols=nr_static, nrows=1, figsize=(nr_static*4,4), dpi=100)\n",
    "[ax.axis('off') for ax in axes]\n",
    "for i in range(nr_static):\n",
    "    nclass = ((modes==nr_modes+i) & (~blacklisted)).sum()\n",
    "    axes[i].set_title(\"%d/%d [%.1f%%]\" %(nclass,ndata, nclass/ndata*100.))\n",
    "    axes[i].text(0,0, \"%d\" %(nr_modes+i), color='r')\n",
    "    axes[i].imshow(images[-nr_static+i], norm=colors.LogNorm(vmin=0.0001, vmax=3), cmap='cividis')\n",
    "plt.show()"
   ]
  },
  {
   "cell_type": "markdown",
   "metadata": {},
   "source": [
    "## Inspect ring classes"
   ]
  },
  {
   "cell_type": "code",
   "execution_count": null,
   "metadata": {},
   "outputs": [],
   "source": [
    "rings = 4,7,16\n",
    "fig, axes = plt.subplots(ncols=len(rings), nrows=1, figsize=(len(rings)*4,4), dpi=100)\n",
    "[ax.axis('off') for ax in axes]\n",
    "for i in range(len(rings)):\n",
    "    nclass = ((modes==rings[i]) & (~blacklisted)).sum()\n",
    "    axes[i].set_title(\"%d/%d [%.1f%%]\" %(nclass,ndata, nclass/ndata*100.))\n",
    "    axes[i].text(0,0, \"%d\" %(rings[i]), color='r')\n",
    "    axes[i].imshow(images[rings[i]], norm=colors.LogNorm(vmin=0.0001, vmax=3), cmap='cividis')\n",
    "plt.show()"
   ]
  },
  {
   "cell_type": "markdown",
   "metadata": {},
   "source": [
    "## Inspect doubles classes"
   ]
  },
  {
   "cell_type": "code",
   "execution_count": null,
   "metadata": {},
   "outputs": [],
   "source": [
    "doubles = 10,11,12,13,21,25,26,27,29,34\n",
    "N = len(doubles)\n",
    "ncols = 5\n",
    "nrows = int(np.ceil(N/ncols))\n",
    "fig, axes = plt.subplots(ncols=ncols, nrows=nrows, figsize=(ncols*4,nrows*4), dpi=100)\n",
    "for i in range(ncols*nrows):\n",
    "    c,r = i//ncols, i%ncols\n",
    "    axes[c,r].axis('off')\n",
    "for i in range(N):\n",
    "    c,r = i//ncols, i%ncols\n",
    "    nclass = ((modes==doubles[i]) & (~blacklisted)).sum()\n",
    "    axes[c,r].set_title(\"%d/%d [%.1f%%]\" %(nclass,ndata, nclass/ndata*100.))\n",
    "    axes[c,r].imshow(images[doubles[i]], norm=colors.LogNorm(vmin=0.0001, vmax=3), cmap='cividis')\n",
    "    axes[c,r].text(0,0, \"%d\" %doubles[i], color='r')\n",
    "plt.show()"
   ]
  },
  {
   "cell_type": "markdown",
   "metadata": {},
   "source": [
    "## Inspect other strange classes"
   ]
  },
  {
   "cell_type": "code",
   "execution_count": null,
   "metadata": {},
   "outputs": [],
   "source": [
    "strange = 1,2,3,5,14,15,28,30,31\n",
    "N = len(strange)\n",
    "ncols = 5\n",
    "nrows = int(np.ceil(N/ncols))\n",
    "fig, axes = plt.subplots(ncols=ncols, nrows=nrows, figsize=(ncols*4,nrows*4), dpi=100)\n",
    "for i in range(ncols*nrows):\n",
    "    c,r = i//ncols, i%ncols\n",
    "    axes[c,r].axis('off')\n",
    "for i in range(N):\n",
    "    c,r = i//ncols, i%ncols\n",
    "    nclass = ((modes==strange[i]) & (~blacklisted)).sum()\n",
    "    axes[c,r].set_title(\"%d/%d [%.1f%%]\" %(nclass,ndata, nclass/ndata*100.))\n",
    "    axes[c,r].imshow(images[strange[i]], norm=colors.LogNorm(vmin=0.0001, vmax=3), cmap='cividis')\n",
    "    axes[c,r].text(0,0, \"%d\" %strange[i], color='r')\n",
    "plt.show()"
   ]
  },
  {
   "cell_type": "markdown",
   "metadata": {},
   "source": [
    "## Classes to be removed/kept"
   ]
  },
  {
   "cell_type": "code",
   "execution_count": null,
   "metadata": {},
   "outputs": [],
   "source": [
    "remove = list(range(nr_modes, nr_modes+nr_static)) + list(rings) + list(doubles) + list(strange)\n",
    "keep = list(range(nr_modes + nr_static))\n",
    "for r in remove: keep.remove(r)"
   ]
  },
  {
   "cell_type": "markdown",
   "metadata": {},
   "source": [
    "## Inspect classes to keep"
   ]
  },
  {
   "cell_type": "code",
   "execution_count": null,
   "metadata": {},
   "outputs": [],
   "source": [
    "N = len(keep)\n",
    "ncols = 5\n",
    "nrows = int(np.ceil(N/ncols))\n",
    "fig, axes = plt.subplots(ncols=ncols, nrows=nrows, figsize=(ncols*4,nrows*4), dpi=100)\n",
    "keeptotal = 0\n",
    "for i in range(ncols*nrows):\n",
    "    c,r = i//ncols, i%ncols\n",
    "    axes[c,r].axis('off')\n",
    "for i in range(N):\n",
    "    c,r = i//ncols, i%ncols\n",
    "    nclass = ((modes==keep[i]) & (~blacklisted)).sum()\n",
    "    keeptotal += nclass\n",
    "    axes[c,r].set_title(\"%d/%d [%.1f%%]\" %(nclass,ndata, nclass/ndata*100.))\n",
    "    axes[c,r].imshow(images[keep[i]], norm=colors.LogNorm(vmin=0.0001, vmax=3), cmap='cividis')\n",
    "    axes[c,r].text(0,0, \"%d\" %keep[i], color='r')\n",
    "plt.show()"
   ]
  },
  {
   "cell_type": "code",
   "execution_count": null,
   "metadata": {},
   "outputs": [],
   "source": [
    "print(\"Keeping %d frames for 3D [%.2f%%]\" %(keeptotal, keeptotal/ndata*100))"
   ]
  },
  {
   "cell_type": "markdown",
   "metadata": {},
   "source": [
    "## Write selection into blacklist file"
   ]
  },
  {
   "cell_type": "code",
   "execution_count": null,
   "metadata": {},
   "outputs": [],
   "source": [
    "blacklist = np.zeros(occupancies.shape[0], dtype=int)\n",
    "for m in remove:\n",
    "    blacklist[np.where(modes == m)[0]] = 1\n",
    "ndata = blacklist.shape[0] - blacklist.sum()"
   ]
  },
  {
   "cell_type": "code",
   "execution_count": null,
   "metadata": {},
   "outputs": [],
   "source": [
    "np.savetxt(emc_folder + \"blacklist_%d_%d.dat\" %(rr,ndata), blacklist, fmt='%d')"
   ]
  },
  {
   "cell_type": "markdown",
   "metadata": {},
   "source": [
    "## Select for ring features only"
   ]
  },
  {
   "cell_type": "code",
   "execution_count": null,
   "metadata": {},
   "outputs": [],
   "source": [
    "remove = list(range(nr_modes+1))\n",
    "remove.remove(9)"
   ]
  },
  {
   "cell_type": "code",
   "execution_count": null,
   "metadata": {},
   "outputs": [],
   "source": [
    "blacklist = np.zeros(occupancies.shape[0], dtype=int)\n",
    "for m in remove:\n",
    "    blacklist[np.where(modes == m)[0]] = 1\n",
    "ndata = blacklist.shape[0] - blacklist.sum()"
   ]
  },
  {
   "cell_type": "code",
   "execution_count": null,
   "metadata": {},
   "outputs": [],
   "source": [
    "np.savetxt(path_to_recons + 'ring_0000/' + \"blacklist_%d_%d.dat\" %(rr,ndata), blacklist, fmt='%d')"
   ]
  }
 ],
 "metadata": {
  "kernelspec": {
   "display_name": "Python 3",
   "language": "python",
   "name": "python3"
  },
  "language_info": {
   "codemirror_mode": {
    "name": "ipython",
    "version": 3
   },
   "file_extension": ".py",
   "mimetype": "text/x-python",
   "name": "python",
   "nbconvert_exporter": "python",
   "pygments_lexer": "ipython3",
   "version": "3.6.7"
  }
 },
 "nbformat": 4,
 "nbformat_minor": 2
}
