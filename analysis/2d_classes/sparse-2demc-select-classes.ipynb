{
 "cells": [
  {
   "cell_type": "code",
   "execution_count": null,
   "metadata": {},
   "outputs": [],
   "source": [
    "import h5py, sys, os\n",
    "import numpy as np\n",
    "import matplotlib.pyplot as plt\n",
    "import matplotlib.colors as colors\n",
    "import matplotlib.cm as cm\n",
    "%matplotlib tk"
   ]
  },
  {
   "cell_type": "code",
   "execution_count": null,
   "metadata": {},
   "outputs": [],
   "source": [
    "sys.path.append('/mnt/cbis/home/benedikt/.local/dragonfly/utils/py_src')"
   ]
  },
  {
   "cell_type": "code",
   "execution_count": null,
   "metadata": {},
   "outputs": [],
   "source": [
    "import writeemc\n",
    "import detector\n",
    "import reademc"
   ]
  },
  {
   "cell_type": "code",
   "execution_count": null,
   "metadata": {},
   "outputs": [],
   "source": [
    "path_to_data = \"../../data/sparse/\" # scratch/sparse on Maxwell\n",
    "path_to_aux = \"../../data/aux/\" # scratch/benedikt/aux on Maxwell\n",
    "path_to_geometry = \"../../geometry/\"\n",
    "path_to_recons = \"../../data/recons/\""
   ]
  },
  {
   "cell_type": "markdown",
   "metadata": {},
   "source": [
    "## Reading metadata"
   ]
  },
  {
   "cell_type": "code",
   "execution_count": null,
   "metadata": {},
   "outputs": [],
   "source": [
    "with h5py.File(path_to_aux + \"sparse_hits_metadata.h5\", \"r\") as f:\n",
    "    cells = f['cells'][:]"
   ]
  },
  {
   "cell_type": "markdown",
   "metadata": {},
   "source": [
    "## Reading 2D EMC classes (round 1)"
   ]
  },
  {
   "cell_type": "code",
   "execution_count": null,
   "metadata": {},
   "outputs": [],
   "source": [
    "r = 1"
   ]
  },
  {
   "cell_type": "code",
   "execution_count": null,
   "metadata": {},
   "outputs": [],
   "source": [
    "emc_folder = path_to_recons + \"melv_0001/\"\n",
    "emc_output = emc_folder + \"data/r%d/output_040.h5\" %r\n",
    "emc_photons = emc_folder + 'photons.txt'\n",
    "emc_detector = path_to_recons + \"det/det_lowq8.h5\""
   ]
  },
  {
   "cell_type": "code",
   "execution_count": null,
   "metadata": {},
   "outputs": [],
   "source": [
    "photons_list = list(np.loadtxt(emc_photons, dtype=str))\n",
    "photons_list = [emc_folder + p for p in photons_list]"
   ]
  },
  {
   "cell_type": "code",
   "execution_count": null,
   "metadata": {},
   "outputs": [],
   "source": [
    "det = detector.Detector(emc_detector, mask_flag=True)\n",
    "emc = reademc.EMCReader(photons_list, det)"
   ]
  },
  {
   "cell_type": "code",
   "execution_count": null,
   "metadata": {},
   "outputs": [],
   "source": [
    "with h5py.File(emc_output,'r') as f:\n",
    "    occupancies = f['occupancies'][:]\n",
    "    likelihood = f['likelihood'][:]\n",
    "    orientations = f['orientations'][:]\n",
    "    images = f['intens'][:]\n",
    "    print(list(f))"
   ]
  },
  {
   "cell_type": "code",
   "execution_count": null,
   "metadata": {},
   "outputs": [],
   "source": [
    "nr_rot = 180\n",
    "nr_static = 1\n",
    "nr_modes = occupancies.shape[1] - nr_static\n",
    "modes = orientations % (nr_modes)\n",
    "rotind = orientations // (nr_modes)\n",
    "modes[rotind >= nr_rot] = orientations[rotind >= nr_rot] - nr_modes * (nr_rot - 1)\n",
    "ndata = len(modes)"
   ]
  },
  {
   "cell_type": "code",
   "execution_count": null,
   "metadata": {},
   "outputs": [],
   "source": [
    "fig, axes = plt.subplots(nrows=3, ncols=5, figsize=(20,12), dpi=200)\n",
    "for i in range(15):\n",
    "    c,r = i//5, i%5\n",
    "    axes[c,r].axis('off')\n",
    "    nclass = (modes==i).sum()\n",
    "    axes[c,r].set_title(\"%d/%d [%.1f%%]\" %(nclass,ndata, nclass/ndata*100.))\n",
    "    axes[c,r].imshow(images[i], norm=colors.LogNorm(vmin=0.0001, vmax=3), cmap='cividis')\n",
    "plt.savefig(\"../../plots/2dclasses.png\", bbox_inches='tight')\n",
    "plt.show()"
   ]
  },
  {
   "cell_type": "markdown",
   "metadata": {},
   "source": [
    "## Static class"
   ]
  },
  {
   "cell_type": "code",
   "execution_count": null,
   "metadata": {},
   "outputs": [],
   "source": [
    "plt.figure(figsize=(5,5), dpi=100)\n",
    "plt.axis('off')\n",
    "plt.imshow(images[-1], norm=colors.LogNorm(vmin=0.0001, vmax=3), cmap='cividis')\n",
    "plt.show()"
   ]
  },
  {
   "cell_type": "markdown",
   "metadata": {},
   "source": [
    "## Exclude ring features and static features"
   ]
  },
  {
   "cell_type": "code",
   "execution_count": null,
   "metadata": {},
   "outputs": [],
   "source": [
    "remove = 1,10,15"
   ]
  },
  {
   "cell_type": "code",
   "execution_count": null,
   "metadata": {},
   "outputs": [],
   "source": [
    "blacklist = np.zeros(occupancies.shape[0], dtype=int)\n",
    "for m in remove:\n",
    "    blacklist[np.where(modes == m)[0]] = 1\n",
    "ndata = blacklist.shape[0] - blacklist.sum()"
   ]
  },
  {
   "cell_type": "code",
   "execution_count": null,
   "metadata": {},
   "outputs": [],
   "source": [
    "np.savetxt(emc_folder + \"blacklist_%d_%d.dat\" %(r,ndata), blacklist, fmt='%d')"
   ]
  },
  {
   "cell_type": "markdown",
   "metadata": {},
   "source": [
    "## Select for ring features only"
   ]
  },
  {
   "cell_type": "code",
   "execution_count": null,
   "metadata": {},
   "outputs": [],
   "source": [
    "remove = list(range(nr_modes+1))\n",
    "remove.remove(1)\n",
    "remove.remove(10)"
   ]
  },
  {
   "cell_type": "code",
   "execution_count": null,
   "metadata": {},
   "outputs": [],
   "source": [
    "blacklist = np.zeros(occupancies.shape[0], dtype=int)\n",
    "for m in remove:\n",
    "    blacklist[np.where(modes == m)[0]] = 1\n",
    "ndata = blacklist.shape[0] - blacklist.sum()"
   ]
  },
  {
   "cell_type": "code",
   "execution_count": null,
   "metadata": {},
   "outputs": [],
   "source": [
    "np.savetxt(emc_folder + \"blacklist_%d_%d.dat\" %(r,ndata), blacklist, fmt='%d')"
   ]
  },
  {
   "cell_type": "code",
   "execution_count": null,
   "metadata": {},
   "outputs": [],
   "source": []
  }
 ],
 "metadata": {
  "kernelspec": {
   "display_name": "Python 3",
   "language": "python",
   "name": "python3"
  },
  "language_info": {
   "codemirror_mode": {
    "name": "ipython",
    "version": 3
   },
   "file_extension": ".py",
   "mimetype": "text/x-python",
   "name": "python",
   "nbconvert_exporter": "python",
   "pygments_lexer": "ipython3",
   "version": "3.6.7"
  }
 },
 "nbformat": 4,
 "nbformat_minor": 2
}
