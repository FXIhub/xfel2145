{
 "cells": [
  {
   "cell_type": "code",
   "execution_count": null,
   "metadata": {},
   "outputs": [],
   "source": [
    "import h5py, sys, os, time\n",
    "import numpy as np\n",
    "import scipy.ndimage as ndimage\n",
    "import matplotlib.pyplot as plt\n",
    "import matplotlib.colors as colors\n",
    "import matplotlib.cm as cm"
   ]
  },
  {
   "cell_type": "code",
   "execution_count": null,
   "metadata": {},
   "outputs": [],
   "source": [
    "import spimage"
   ]
  },
  {
   "cell_type": "code",
   "execution_count": null,
   "metadata": {},
   "outputs": [],
   "source": [
    "import sys; sys.path.append(\"../../offline/\")\n",
    "import sparse, geom, utils"
   ]
  },
  {
   "cell_type": "code",
   "execution_count": null,
   "metadata": {},
   "outputs": [],
   "source": [
    "sys.path.append('/mnt/cbis/home/benedikt/.local/dragonfly/utils/py_src')"
   ]
  },
  {
   "cell_type": "code",
   "execution_count": null,
   "metadata": {},
   "outputs": [],
   "source": [
    "import writeemc\n",
    "import detector\n",
    "import reademc"
   ]
  },
  {
   "cell_type": "code",
   "execution_count": null,
   "metadata": {},
   "outputs": [],
   "source": [
    "path_to_data = \"../../data/sparse/\" # scratch/sparse on Maxwell\n",
    "path_to_aux = \"../../data/aux/\" # scratch/benedikt/aux on Maxwell\n",
    "path_to_geometry = \"../../geometry/\"\n",
    "path_to_recons = \"../../data/recons/\""
   ]
  },
  {
   "cell_type": "code",
   "execution_count": null,
   "metadata": {},
   "outputs": [],
   "source": [
    "emc_folder   = path_to_recons + \"sucrose_0000/\"\n",
    "emc_output   = emc_folder + \"data/r2/output_001_%03d.h5\"\n",
    "emc_photons  = emc_folder + 'photons.txt'\n",
    "emc_detector = path_to_recons + \"det/det_2145_lowq5.h5\""
   ]
  },
  {
   "cell_type": "code",
   "execution_count": null,
   "metadata": {},
   "outputs": [],
   "source": [
    "photons_list = emc_folder + str(np.loadtxt(emc_photons, dtype=str))"
   ]
  },
  {
   "cell_type": "markdown",
   "metadata": {},
   "source": [
    "## Load initial model"
   ]
  },
  {
   "cell_type": "code",
   "execution_count": null,
   "metadata": {},
   "outputs": [],
   "source": [
    "with h5py.File(emc_folder + 'data/r2/init.h5', 'r') as f:\n",
    "    dsamples = f['dsamples'][:]\n",
    "    intensity = f['intensity'][...]\n",
    "    pixelsize = f['pixelsize'][...]\n",
    "    wavelength = f['wavelength'][...]\n",
    "    distance = f['distance'][...]\n",
    "    material = str(f['material'][...])"
   ]
  },
  {
   "cell_type": "code",
   "execution_count": null,
   "metadata": {},
   "outputs": [],
   "source": [
    "rescale = np.empty(5, dtype='float')\n",
    "rescale[0] = 7.897398e-02\n",
    "rescale[1] = 7.897398e-01\n",
    "rescale[2] = 7.897398e+00\n",
    "rescale[3] = 7.897398e+01\n",
    "rescale[4] = 7.897398e+02"
   ]
  },
  {
   "cell_type": "code",
   "execution_count": null,
   "metadata": {},
   "outputs": [],
   "source": [
    "intensity = np.empty(5, dtype='float')\n",
    "intensity[0] = 1e8\n",
    "intensity[1] = 1e7\n",
    "intensity[2] = 1e6\n",
    "intensity[3] = 1e5\n",
    "intensity[4] = 1e4"
   ]
  },
  {
   "cell_type": "markdown",
   "metadata": {},
   "source": [
    "## Load EMC reconstruction"
   ]
  },
  {
   "cell_type": "code",
   "execution_count": null,
   "metadata": {},
   "outputs": [],
   "source": [
    "n = 1"
   ]
  },
  {
   "cell_type": "code",
   "execution_count": null,
   "metadata": {},
   "outputs": [],
   "source": [
    "nr_rot = 180\n",
    "nr_static = 0\n",
    "with h5py.File(emc_output %n,'r') as f:\n",
    "    occupancies = f['occupancies'][:]\n",
    "    likelihood = f['likelihood'][:]\n",
    "    orientations = f['orientations'][:]\n",
    "    images = f['intens'][:]\n",
    "    scale = f['scale'][:]\n",
    "    mutual_info = f['mutual_info'][:]\n",
    "nr_modes = occupancies.shape[1] - nr_static\n",
    "modes = orientations % (nr_modes)\n",
    "rotind = orientations // (nr_modes)\n",
    "modes[rotind >= nr_rot] = orientations[rotind >= nr_rot] - nr_modes * (nr_rot - 1)\n",
    "blacklisted = (occupancies == 0).all(axis=1)\n",
    "modes[blacklisted] = -1\n",
    "ndata = len(modes) - blacklisted.sum() "
   ]
  },
  {
   "cell_type": "code",
   "execution_count": null,
   "metadata": {
    "scrolled": false
   },
   "outputs": [],
   "source": [
    "N = occupancies.shape[1]\n",
    "ncols = 20\n",
    "nrows = N//ncols\n",
    "fig, axes = plt.subplots(nrows=nrows, ncols=ncols, figsize=(ncols*4,nrows*4), dpi=100)\n",
    "for i in range(N):\n",
    "    c,r = i//ncols, i%ncols\n",
    "    axes[c,r].axis('off')\n",
    "    nclass = ((modes==i) & (~blacklisted)).sum()\n",
    "    axes[c,r].set_title(\"%d/%d [%.1f%%]\" %(nclass,ndata, nclass/ndata*100.))\n",
    "    axes[c,r].imshow(images[i], norm=colors.LogNorm(vmin=0.0001, vmax=3), cmap='cividis')\n",
    "    axes[c,r].text(0,0, \"%d\" %i, color='r')\n",
    "plt.show()"
   ]
  },
  {
   "cell_type": "code",
   "execution_count": null,
   "metadata": {},
   "outputs": [],
   "source": [
    "det = detector.Detector(emc_detector, mask_flag=True)\n",
    "emc = reademc.EMCReader(photons_list, det)"
   ]
  },
  {
   "cell_type": "code",
   "execution_count": null,
   "metadata": {},
   "outputs": [],
   "source": [
    "diameters = np.zeros(occupancies.shape[0])\n",
    "for i in range(len(dsamples)):\n",
    "    diameters[modes==i] = dsamples[i]*1e9\n",
    "diameters[modes==-1] = np.nan"
   ]
  },
  {
   "cell_type": "code",
   "execution_count": null,
   "metadata": {},
   "outputs": [],
   "source": [
    "cut = int(ndata*0.90)\n",
    "threshold = np.sort(likelihood[~blacklisted])[::-1][cut]\n",
    "print(threshold)\n",
    "select = ((likelihood>threshold) & (likelihood!=0))"
   ]
  },
  {
   "cell_type": "markdown",
   "metadata": {},
   "source": [
    "## Create static averages"
   ]
  },
  {
   "cell_type": "code",
   "execution_count": null,
   "metadata": {},
   "outputs": [],
   "source": [
    "boxsize = (181,181)\n",
    "fr = emc.get_frame(0)\n",
    "ymin = np.where(fr.mask==0)[0].min() - 3\n",
    "xmin = np.where(fr.mask==0)[1].min() - 3\n",
    "mask = (fr.mask[ymin:ymin+boxsize[0],xmin:xmin+boxsize[1]] == 0)[::-1,::-1]\n",
    "crop = lambda img: img[ymin:ymin+boxsize[0],xmin:xmin+boxsize[1]][::-1,::-1]"
   ]
  },
  {
   "cell_type": "code",
   "execution_count": null,
   "metadata": {},
   "outputs": [],
   "source": [
    "averages = np.empty((nr_modes, boxsize[0], boxsize[1]))\n",
    "for m in range(nr_modes):\n",
    "    if (modes==m).sum():\n",
    "        averages[m] = crop(np.mean([emc.get_frame(i) for i in np.where((modes==m) & select)[0]], axis=0))"
   ]
  },
  {
   "cell_type": "code",
   "execution_count": null,
   "metadata": {},
   "outputs": [],
   "source": [
    "# customized colors\n",
    "cmap = cm.get_cmap('cubehelix')\n",
    "cmap.set_bad('0.75')\n",
    "cmap.set_under('black')"
   ]
  },
  {
   "cell_type": "code",
   "execution_count": null,
   "metadata": {},
   "outputs": [],
   "source": [
    "fig, axes = plt.subplots(ncols=20, nrows=5, figsize=(20,5), dpi=200)\n",
    "for i in range(nr_modes):\n",
    "    c,r = i//20, i%20\n",
    "    axes[c,r].axis('off')\n",
    "    axes[c,r].set_title(\"%d: %d nm\" %(i,dsamples[i]*1e9), fontsize=5, pad=0.1)\n",
    "    axes[c,r].imshow(averages[i], norm=colors.LogNorm(), cmap=cmap)\n",
    "plt.show()"
   ]
  },
  {
   "cell_type": "markdown",
   "metadata": {},
   "source": [
    "## Radial averages"
   ]
  },
  {
   "cell_type": "code",
   "execution_count": null,
   "metadata": {},
   "outputs": [],
   "source": [
    "Raverages = []\n",
    "for i in range(nr_modes):\n",
    "    center, radial = spimage.radialMeanImage(averages[i], msk=mask, \n",
    "                                             cx=boxsize[0]//2, cy=boxsize[1]//2, output_r=True)\n",
    "    Raverages.append(radial)\n",
    "Raverages = np.array(Raverages)"
   ]
  },
  {
   "cell_type": "code",
   "execution_count": null,
   "metadata": {},
   "outputs": [],
   "source": [
    "plt.figure(figsize=(10,5), dpi=200)\n",
    "plt.title(\"Radial averages of static 2D averages\")\n",
    "plt.imshow(Raverages, aspect='auto', norm=colors.LogNorm(vmin=1e-5, vmax=10), \n",
    "           cmap='viridis', interpolation='nearest',\n",
    "           extent=[center[0],center[-1],dsamples[-1]*1e9,dsamples[0]*1e9])\n",
    "plt.xlabel(\"Spatial frequency [px]\")\n",
    "plt.ylabel(\"Particle size [nm]\")\n",
    "plt.show()"
   ]
  },
  {
   "cell_type": "markdown",
   "metadata": {},
   "source": [
    "## Fitting the average intensity"
   ]
  },
  {
   "cell_type": "code",
   "execution_count": null,
   "metadata": {},
   "outputs": [],
   "source": [
    "import scipy.optimize"
   ]
  },
  {
   "cell_type": "code",
   "execution_count": null,
   "metadata": {},
   "outputs": [],
   "source": [
    "qr = spimage.x_to_qx(center, pixelsize, distance)"
   ]
  },
  {
   "cell_type": "code",
   "execution_count": null,
   "metadata": {},
   "outputs": [],
   "source": [
    "def sphere_model(I,D):\n",
    "    A = spimage.sphere_model_convert_intensity_to_scaling(I, D, wavelength, pixelsize, \n",
    "                                                          distance, material=material)\n",
    "    s = spimage.sphere_model_convert_diameter_to_size(D, wavelength, pixelsize, distance)\n",
    "    return spimage.I_sphere_diffraction(A,qr,s)"
   ]
  },
  {
   "cell_type": "code",
   "execution_count": null,
   "metadata": {},
   "outputs": [],
   "source": [
    "fluence = np.empty(nr_modes)\n",
    "Faverages = []\n",
    "for m in range(nr_modes):\n",
    "    fitfunc  = lambda i: sphere_model(intensity[n]*i,dsamples[m])\n",
    "    costfunc = lambda i: np.sum((fitfunc(i)[5:] - Raverages[m][5:])**2)\n",
    "    res = scipy.optimize.minimize(costfunc, 1.)\n",
    "    fluence[m] = np.abs(res['x'][0])\n",
    "    Faverages.append(fitfunc(res['x']))\n",
    "Faverages = np.array(Faverages)"
   ]
  },
  {
   "cell_type": "code",
   "execution_count": null,
   "metadata": {},
   "outputs": [],
   "source": [
    "plt.figure(figsize=(10,5), dpi=200)\n",
    "plt.title(\"Radial fits of static 2D averages\")\n",
    "plt.imshow(Faverages, aspect='auto', norm=colors.LogNorm(vmin=1e-5, vmax=10), \n",
    "           cmap='viridis', interpolation='nearest',\n",
    "           extent=[center[0],center[-1],dsamples[-1]*1e9,dsamples[0]*1e9])\n",
    "plt.xlabel(\"Spatial frequency [px]\")\n",
    "plt.ylabel(\"Particle size [nm]\")\n",
    "plt.show()"
   ]
  },
  {
   "cell_type": "code",
   "execution_count": null,
   "metadata": {},
   "outputs": [],
   "source": [
    "plt.figure(figsize=(10,5), dpi=200)\n",
    "plt.title(\"Quadratic distance between radial fit and average\")\n",
    "plt.imshow((Faverages-Raverages)**2, aspect='auto', cmap='hot', \n",
    "           interpolation='nearest', norm=colors.LogNorm(vmin=1e-6, vmax=1),\n",
    "           extent=[center[0],center[-1],dsamples[-1]*1e9,dsamples[0]*1e9])\n",
    "plt.xlabel(\"Spatial frequency [px]\")\n",
    "plt.ylabel(\"Particle size [nm]\")\n",
    "plt.colorbar()\n",
    "plt.show()"
   ]
  },
  {
   "cell_type": "code",
   "execution_count": null,
   "metadata": {},
   "outputs": [],
   "source": [
    "plt.plot(dsamples*1e9, np.sum((Faverages-Raverages)**2, axis=1))"
   ]
  },
  {
   "cell_type": "code",
   "execution_count": null,
   "metadata": {},
   "outputs": [],
   "source": [
    "plt.plot(dsamples*1e9, fluence)"
   ]
  },
  {
   "cell_type": "code",
   "execution_count": null,
   "metadata": {},
   "outputs": [],
   "source": [
    "m = 75\n",
    "plt.figure(figsize=(6,3), dpi=100)\n",
    "plt.title(\"m = %d | size: %d nm\" %(m,dsamples[m]*1e9))\n",
    "plt.plot(center, Raverages[m], 'bo:', ms=2)\n",
    "plt.plot(qr, Faverages[m], 'r-')\n",
    "#plt.semilogy()\n",
    "plt.ylim(0,2)\n",
    "plt.xlim(0,100)\n",
    "plt.show()"
   ]
  },
  {
   "cell_type": "markdown",
   "metadata": {},
   "source": [
    "## Size/intensity distributions"
   ]
  },
  {
   "cell_type": "code",
   "execution_count": null,
   "metadata": {},
   "outputs": [],
   "source": [
    "meanscale = np.array([scale[modes==m][select[modes==m]].mean() for m in range(nr_modes)])"
   ]
  },
  {
   "cell_type": "code",
   "execution_count": null,
   "metadata": {},
   "outputs": [],
   "source": [
    "plt.figure(figsize=(10,5))\n",
    "plt.scatter(diameters[~select], scale[~select], c='r', s=10, alpha=1)\n",
    "plt.scatter(diameters[select], scale[select], c=likelihood[select], s=10, alpha=1, vmin=-2000,vmax=0)\n",
    "plt.plot(dsamples*1e9, meanscale, color='k', lw=2)\n",
    "plt.colorbar(label='Likelihood')\n",
    "plt.xlim(50,250)\n",
    "plt.ylim(0,5)\n",
    "plt.ylabel(\"EMC fluence scale [arb. unit]\")\n",
    "plt.xlabel(\"Diameter [nm]\")\n",
    "plt.show()"
   ]
  },
  {
   "cell_type": "code",
   "execution_count": null,
   "metadata": {
    "scrolled": true
   },
   "outputs": [],
   "source": [
    "plt.figure(figsize=(10,5))\n",
    "plt.hist2d(diameters[select], scale[select], range=((dsamples[0]*1e9, dsamples[-1]*1e9),(0,5)), bins=len(dsamples), \n",
    "           norm=colors.LogNorm(vmin=1,vmax=200), cmap='inferno')\n",
    "plt.plot(dsamples*1e9, meanscale, color='lightblue', lw=2)\n",
    "plt.colorbar()\n",
    "plt.ylabel(\"EMC fluence scale [arb. unit]\")\n",
    "plt.xlabel(\"Diameter [nm]\")\n",
    "plt.show()"
   ]
  },
  {
   "cell_type": "code",
   "execution_count": null,
   "metadata": {},
   "outputs": [],
   "source": [
    "plt.figure(figsize=(10,5))\n",
    "plt.plot(dsamples*1e9, meanscale, label=\"Mean EMC fluence\")\n",
    "plt.plot(dsamples*1e9, meanscale*0.60, label=\"Mean EMC fluence x 0.60\")\n",
    "plt.plot(dsamples*1e9, fluence, label=\"Fitted fluence\")\n",
    "plt.ylabel(\"Fluence scales\")\n",
    "plt.xlabel(\"Diameter [nm]\")\n",
    "plt.legend(frameon=0)\n",
    "plt.show()"
   ]
  },
  {
   "cell_type": "code",
   "execution_count": null,
   "metadata": {},
   "outputs": [],
   "source": [
    "intensities = scale*0.60*intensity[n]*1e-6"
   ]
  },
  {
   "cell_type": "code",
   "execution_count": null,
   "metadata": {},
   "outputs": [],
   "source": [
    "fig, axes = plt.subplots(ncols=3, figsize=(15,5), dpi=200)\n",
    "axes[0].set_title(\"Size vs. Fluence\")\n",
    "axes[0].hist2d(diameters[select], intensities[select], range=((dsamples[0]*1e9, dsamples[-1]*1e9),(0,20)), bins=len(dsamples), \n",
    "           norm=colors.LogNorm(vmin=1,vmax=100), cmap='inferno')\n",
    "axes[0].set_xlim(50,250)\n",
    "axes[0].set_ylim(0,20)\n",
    "axes[0].set_ylabel(r\"Estimated fluence [$\\mathrm{\\mu J}/\\mathrm{\\mu} m^2$]\")\n",
    "axes[0].set_xlabel(\"Diameter [nm]\")\n",
    "#axes[0].axhline(6.5, color='b')\n",
    "axes[1].set_title(\"Size histogram\")\n",
    "axes[1].hist(diameters[select], range=(dsamples[0]*1e9, dsamples[-1]*1e9), bins=len(dsamples), color='0.75')\n",
    "#axes[1].hist(diameters[select & (intensities>6.5)], range=(dsamples[0]*1e9, dsamples[-1]*1e9), bins=len(dsamples)//1, color='b')\n",
    "axes[1].set_xlabel(\"Diameter [nm]\")\n",
    "axes[2].set_title(\"Fluence histogram\")\n",
    "axes[2].hist(scale[select]*0.65*intensity[n]*1e-6, range=(0,20), bins=len(dsamples), color='r')\n",
    "axes[2].set_xlabel(r\"Estimated fluence [$\\mathrm{\\mu J}/\\mathrm{\\mu} m^2$]\")\n",
    "plt.show()"
   ]
  },
  {
   "cell_type": "markdown",
   "metadata": {},
   "source": [
    "## Fit to individial patterns"
   ]
  },
  {
   "cell_type": "code",
   "execution_count": null,
   "metadata": {},
   "outputs": [],
   "source": [
    "isort = np.sort(intensities[select])[::-1]"
   ]
  },
  {
   "cell_type": "code",
   "execution_count": null,
   "metadata": {},
   "outputs": [],
   "source": [
    "k = -3\n",
    "j = np.where(intensities==isort[k])[0][0]\n",
    "center, data = spimage.radialMeanImage(crop(emc.get_frame(j)), msk=mask, \n",
    "                                             cx=boxsize[0]//2, cy=boxsize[1]//2, output_r=True)"
   ]
  },
  {
   "cell_type": "code",
   "execution_count": null,
   "metadata": {},
   "outputs": [],
   "source": [
    "plt.figure()\n",
    "plt.title(r\"size: %d nm | fluence: %.2f $\\mathrm{\\mu J}/\\mathrm{\\mu m}^2$\" %(diameters[j], intensities[j]))\n",
    "plt.plot(center, sphere_model(intensities[j]*1e6, diameters[j]*1e-9),'r-')\n",
    "plt.plot(center,data, 'bo:', ms=2)\n",
    "plt.xlabel(\"Spatial frequency [px]\")\n",
    "plt.ylabel(\"Nr. of photons / px\")\n",
    "plt.show()"
   ]
  }
 ],
 "metadata": {
  "kernelspec": {
   "display_name": "Python 3",
   "language": "python",
   "name": "python3"
  },
  "language_info": {
   "codemirror_mode": {
    "name": "ipython",
    "version": 3
   },
   "file_extension": ".py",
   "mimetype": "text/x-python",
   "name": "python",
   "nbconvert_exporter": "python",
   "pygments_lexer": "ipython3",
   "version": "3.6.7"
  }
 },
 "nbformat": 4,
 "nbformat_minor": 2
}
