{
 "cells": [
  {
   "cell_type": "code",
   "execution_count": null,
   "metadata": {},
   "outputs": [],
   "source": [
    "import h5py, sys, os\n",
    "import numpy as np\n",
    "import matplotlib.pyplot as plt\n",
    "import matplotlib.colors as colors\n",
    "import matplotlib.cm as cm"
   ]
  },
  {
   "cell_type": "code",
   "execution_count": null,
   "metadata": {},
   "outputs": [],
   "source": [
    "sys.path.append('/mnt/cbis/home/benedikt/.local/dragonfly/utils/py_src')"
   ]
  },
  {
   "cell_type": "code",
   "execution_count": null,
   "metadata": {},
   "outputs": [],
   "source": [
    "import writeemc\n",
    "import detector\n",
    "import reademc"
   ]
  },
  {
   "cell_type": "code",
   "execution_count": null,
   "metadata": {},
   "outputs": [],
   "source": [
    "path_to_data = \"../../data/sparse/\" # scratch/sparse on Maxwell\n",
    "path_to_aux = \"../../data/aux/\" # scratch/benedikt/aux on Maxwell\n",
    "path_to_geometry = \"../../geometry/\"\n",
    "path_to_recons = \"../../data/recons/\""
   ]
  },
  {
   "cell_type": "markdown",
   "metadata": {},
   "source": [
    "## Load EMC reconstruction"
   ]
  },
  {
   "cell_type": "code",
   "execution_count": null,
   "metadata": {},
   "outputs": [],
   "source": [
    "emc_folder = path_to_recons + \"melv_0001/\"\n",
    "emc_output = emc_folder + \"data/r1/output_060.h5\"\n",
    "emc_photons = emc_folder + 'photons.txt'\n",
    "emc_detector = path_to_recons + \"det/det_lowq8.h5\""
   ]
  },
  {
   "cell_type": "code",
   "execution_count": null,
   "metadata": {},
   "outputs": [],
   "source": [
    "photons_list = [emc_folder + pl for pl in np.loadtxt(emc_photons, dtype=str)]"
   ]
  },
  {
   "cell_type": "code",
   "execution_count": null,
   "metadata": {},
   "outputs": [],
   "source": [
    "with h5py.File(emc_output,'r') as f:\n",
    "    occupancies = f['occupancies'][:]\n",
    "    likelihood = f['likelihood'][:]\n",
    "    orientations = f['orientations'][:]\n",
    "    images = f['intens'][:]\n",
    "    scale = f['scale'][:]"
   ]
  },
  {
   "cell_type": "code",
   "execution_count": null,
   "metadata": {},
   "outputs": [],
   "source": [
    "nr_rot = 180\n",
    "nr_static = 5\n",
    "nr_modes = occupancies.shape[1] - nr_static\n",
    "modes = orientations % (nr_modes)\n",
    "rotind = orientations // (nr_modes)\n",
    "modes[rotind >= nr_rot] = orientations[rotind >= nr_rot] - nr_modes * (nr_rot - 1)\n",
    "blacklisted = (occupancies == 0).all(axis=1)\n",
    "ndata = len(modes) - blacklisted.sum()"
   ]
  },
  {
   "cell_type": "code",
   "execution_count": null,
   "metadata": {},
   "outputs": [],
   "source": [
    "det = detector.Detector(emc_detector, mask_flag=True)\n",
    "emc = reademc.EMCReader(photons_list, det)"
   ]
  },
  {
   "cell_type": "markdown",
   "metadata": {},
   "source": [
    "## Select most interesting 2D class"
   ]
  },
  {
   "cell_type": "code",
   "execution_count": null,
   "metadata": {},
   "outputs": [],
   "source": [
    "sclass = 19\n",
    "select = np.where(modes==sclass)[0]\n",
    "scalesort = np.sort(scale[select])[::-1]"
   ]
  },
  {
   "cell_type": "markdown",
   "metadata": {},
   "source": [
    "## Show 2D class image"
   ]
  },
  {
   "cell_type": "code",
   "execution_count": null,
   "metadata": {},
   "outputs": [],
   "source": [
    "import spimage\n",
    "rmask = spimage.rmask(images[sclass].shape, 180)"
   ]
  },
  {
   "cell_type": "code",
   "execution_count": null,
   "metadata": {},
   "outputs": [],
   "source": [
    "# customized colors\n",
    "cmap = cm.get_cmap('inferno')\n",
    "cmap.set_bad('k')\n",
    "cmap.set_under('k')"
   ]
  },
  {
   "cell_type": "code",
   "execution_count": null,
   "metadata": {},
   "outputs": [],
   "source": [
    "c = 90\n",
    "img = images[sclass]\n",
    "img[img<1e-4] = 1e-4\n",
    "plt.figure(figsize=(10,10), dpi=200)\n",
    "plt.axis('off')\n",
    "plt.imshow((img*rmask)[c:-c,c:-c], norm=colors.LogNorm(vmin=1e-3, vmax=5), cmap='inferno')\n",
    "plt.show()"
   ]
  },
  {
   "cell_type": "markdown",
   "metadata": {},
   "source": [
    "## Strongest individual shots"
   ]
  },
  {
   "cell_type": "code",
   "execution_count": null,
   "metadata": {},
   "outputs": [],
   "source": [
    "k = 24\n",
    "j = np.where(scale==scalesort[k])[0][0]\n",
    "fr = emc.get_frame(j).astype(np.float)\n",
    "fr[fr==0] = 1e-2"
   ]
  },
  {
   "cell_type": "code",
   "execution_count": null,
   "metadata": {},
   "outputs": [],
   "source": [
    "# customized colors\n",
    "cmap = cm.get_cmap('inferno')\n",
    "cmap.set_bad('0.25')\n",
    "cmap.set_under('k')"
   ]
  },
  {
   "cell_type": "code",
   "execution_count": null,
   "metadata": {},
   "outputs": [],
   "source": [
    "c = 90\n",
    "plt.figure(figsize=(10,10), dpi=200)\n",
    "plt.axis('off')\n",
    "plt.imshow((fr)[c:-c,c:-c], norm=colors.LogNorm(vmin=1, vmax=None), cmap='inferno')\n",
    "plt.show()"
   ]
  },
  {
   "cell_type": "markdown",
   "metadata": {},
   "source": [
    "## Overview of strong shots"
   ]
  },
  {
   "cell_type": "code",
   "execution_count": null,
   "metadata": {},
   "outputs": [],
   "source": [
    "# customized colors\n",
    "cmap = cm.get_cmap('inferno')\n",
    "cmap.set_bad('0.25')\n",
    "cmap.set_under('k')"
   ]
  },
  {
   "cell_type": "code",
   "execution_count": null,
   "metadata": {},
   "outputs": [],
   "source": [
    "N = 25\n",
    "frames = [emc.get_frame(np.where(scale==scalesort[k])[0][0]).astype(np.float) for k in range(5,N+5)]\n",
    "for f in frames:\n",
    "    f[f==0] = 1e-2"
   ]
  },
  {
   "cell_type": "code",
   "execution_count": null,
   "metadata": {},
   "outputs": [],
   "source": [
    "cr = 90\n",
    "ncols = 5\n",
    "nrows = N//ncols\n",
    "fig, axes = plt.subplots(nrows=nrows, ncols=ncols, figsize=(ncols,nrows), dpi=200)\n",
    "for i in range(N):\n",
    "    c,r = i//ncols, i%ncols\n",
    "    axes[c,r].axis('off')\n",
    "    #axes[c,r].set_title(\"%d\" %(i))\n",
    "    axes[c,r].imshow(frames[i][cr:-cr,cr:-cr], norm=colors.LogNorm(vmin=1, vmax=None), cmap='inferno')\n",
    "    #axes[c,r].text(0,0, \"%d\" %i, color='r')"
   ]
  }
 ],
 "metadata": {
  "kernelspec": {
   "display_name": "Python 3",
   "language": "python",
   "name": "python3"
  },
  "language_info": {
   "codemirror_mode": {
    "name": "ipython",
    "version": 3
   },
   "file_extension": ".py",
   "mimetype": "text/x-python",
   "name": "python",
   "nbconvert_exporter": "python",
   "pygments_lexer": "ipython3",
   "version": "3.6.7"
  }
 },
 "nbformat": 4,
 "nbformat_minor": 2
}
