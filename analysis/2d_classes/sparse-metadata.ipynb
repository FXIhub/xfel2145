{
 "cells": [
  {
   "cell_type": "code",
   "execution_count": 1,
   "metadata": {},
   "outputs": [],
   "source": [
    "import h5py\n",
    "import numpy as np\n",
    "import sys; sys.path.append(\"../../offline/\")\n",
    "import sparse, geom, utils"
   ]
  },
  {
   "cell_type": "code",
   "execution_count": 2,
   "metadata": {},
   "outputs": [],
   "source": [
    "path_to_data = \"../../data/sparse/\" # scratch/sparse on Maxwell\n",
    "path_to_aux = \"../../data/aux/\" # scratch/benedikt/aux on Maxwell\n",
    "path_to_geometry = \"../../geometry/\""
   ]
  },
  {
   "cell_type": "markdown",
   "metadata": {},
   "source": [
    "## Merge cell ids and scores of all data (for hits only)"
   ]
  },
  {
   "cell_type": "code",
   "execution_count": 4,
   "metadata": {},
   "outputs": [],
   "source": [
    "runs = range(565,594+1)"
   ]
  },
  {
   "cell_type": "code",
   "execution_count": 5,
   "metadata": {},
   "outputs": [],
   "source": [
    "cells_allruns = []\n",
    "score_allruns = []\n",
    "train_allruns = []\n",
    "threshold = 105\n",
    "for i,run in enumerate(runs[:]):\n",
    "    with sparse.Run(path_to_data + \"r%04d.h5\" %run) as r:\n",
    "        cells = r.cellIds\n",
    "        score = r.litpixel\n",
    "        train = r.trainIds\n",
    "    goodcells = np.ones(len(cells), dtype=np.bool)\n",
    "    goodcells[cells == 0] = False\n",
    "    if run <= 577:\n",
    "        goodcells[cells >= 142] = False\n",
    "    hits = (score > threshold) & (goodcells)\n",
    "    score_allruns.append(score[hits])\n",
    "    cells_allruns.append(cells[hits])\n",
    "    train_allruns.append(train[hits])\n",
    "cells_allruns = np.hstack(cells_allruns)\n",
    "score_allruns = np.hstack(score_allruns)\n",
    "train_allruns = np.hstack(train_allruns)"
   ]
  },
  {
   "cell_type": "code",
   "execution_count": 8,
   "metadata": {},
   "outputs": [],
   "source": [
    "with h5py.File(path_to_aux + \"sparse_hits_metadata.h5\", \"w\") as f:\n",
    "    f['scores'] = score_allruns\n",
    "    f['cells']  = cells_allruns\n",
    "    f['train']  = train_allruns"
   ]
  }
 ],
 "metadata": {
  "kernelspec": {
   "display_name": "Python 3",
   "language": "python",
   "name": "python3"
  },
  "language_info": {
   "codemirror_mode": {
    "name": "ipython",
    "version": 3
   },
   "file_extension": ".py",
   "mimetype": "text/x-python",
   "name": "python",
   "nbconvert_exporter": "python",
   "pygments_lexer": "ipython3",
   "version": "3.6.7"
  }
 },
 "nbformat": 4,
 "nbformat_minor": 2
}
