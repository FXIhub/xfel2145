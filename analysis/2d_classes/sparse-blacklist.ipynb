{
 "cells": [
  {
   "cell_type": "code",
   "execution_count": 12,
   "metadata": {},
   "outputs": [],
   "source": [
    "import h5py\n",
    "import numpy as np\n",
    "import sys; sys.path.append(\"../../offline/\")\n",
    "import sparse, geom, utils"
   ]
  },
  {
   "cell_type": "code",
   "execution_count": 13,
   "metadata": {},
   "outputs": [],
   "source": [
    "path_to_data = \"../../data/sparse/\" # scratch/sparse on Maxwell\n",
    "path_to_aux = \"../../data/aux/\" # scratch/benedikt/aux on Maxwell\n",
    "path_to_geometry = \"../../geometry/\""
   ]
  },
  {
   "cell_type": "markdown",
   "metadata": {},
   "source": [
    "## Initial blacklist for allq data"
   ]
  },
  {
   "cell_type": "code",
   "execution_count": 3,
   "metadata": {},
   "outputs": [],
   "source": [
    "runs = range(565,594+1)"
   ]
  },
  {
   "cell_type": "code",
   "execution_count": 4,
   "metadata": {},
   "outputs": [],
   "source": [
    "blacklist = []\n",
    "threshold = 105\n",
    "for i,run in enumerate(runs[:]):\n",
    "    with sparse.Run(path_to_data + \"r%04d.h5\" %run) as r:\n",
    "        cells = r.cellIds\n",
    "        score = r.litpixel\n",
    "    goodcells = np.ones(len(cells), dtype=np.bool)\n",
    "    goodcells[cells == 0] = False\n",
    "    if run <= 577:\n",
    "        goodcells[cells >= 142] = False\n",
    "    blacklist.append((score < threshold) | (~goodcells))\n",
    "blacklist = np.hstack(blacklist)"
   ]
  },
  {
   "cell_type": "code",
   "execution_count": 5,
   "metadata": {},
   "outputs": [
    {
     "name": "stdout",
     "output_type": "stream",
     "text": [
      "33368775 frames out of 33716705 have been blacklisted as non-hits and bad cells (98.97%)\n"
     ]
    }
   ],
   "source": [
    "print(\"%d frames out of %d have been blacklisted as non-hits and bad cells (%.2f%%)\" \n",
    "      %(blacklist.sum(), blacklist.shape[0], blacklist.sum() / blacklist.shape[0] * 100.))"
   ]
  },
  {
   "cell_type": "code",
   "execution_count": null,
   "metadata": {},
   "outputs": [],
   "source": [
    "print(\"%d frames out of %d remain as hits (%.2f%%)\" \n",
    "      %(blacklist.shape[0]-blacklist.sum(), blacklist.shape[0], (blacklist.shape[0]-blacklist.sum()) / blacklist.shape[0] * 100.))"
   ]
  },
  {
   "cell_type": "code",
   "execution_count": 6,
   "metadata": {},
   "outputs": [],
   "source": [
    "np.savetxt(path_to_data + \"blacklist_0.txt\", blacklist, fmt=\"%d\")"
   ]
  },
  {
   "cell_type": "markdown",
   "metadata": {},
   "source": [
    "## Initial blacklist for lowq data"
   ]
  },
  {
   "cell_type": "code",
   "execution_count": 14,
   "metadata": {},
   "outputs": [],
   "source": [
    "runs = range(565,568+1)"
   ]
  },
  {
   "cell_type": "code",
   "execution_count": 15,
   "metadata": {},
   "outputs": [],
   "source": [
    "blacklist = []\n",
    "threshold = 105\n",
    "for i,run in enumerate(runs[:]):\n",
    "    with sparse.Run(path_to_data + \"r%04d.h5\" %run) as r:\n",
    "        cells = r.cellIds\n",
    "        score = r.litpixel\n",
    "    goodcells = np.ones(len(cells), dtype=np.bool)\n",
    "    goodcells[cells == 0] = False\n",
    "    if run <= 577:\n",
    "        goodcells[cells >= 142] = False\n",
    "    blacklist.append((score < threshold) | (~goodcells))\n",
    "blacklist = np.hstack(blacklist)"
   ]
  },
  {
   "cell_type": "code",
   "execution_count": 16,
   "metadata": {},
   "outputs": [
    {
     "name": "stdout",
     "output_type": "stream",
     "text": [
      "4424601 frames out of 4475860 have been blacklisted as non-hits and bad cells (98.85%)\n"
     ]
    }
   ],
   "source": [
    "print(\"%d frames out of %d have been blacklisted as non-hits and bad cells (%.2f%%)\" \n",
    "      %(blacklist.sum(), blacklist.shape[0], blacklist.sum() / blacklist.shape[0] * 100.))"
   ]
  },
  {
   "cell_type": "code",
   "execution_count": 17,
   "metadata": {},
   "outputs": [
    {
     "name": "stdout",
     "output_type": "stream",
     "text": [
      "51259 frames out of 4475860 remain as hits (1.15%)\n"
     ]
    }
   ],
   "source": [
    "print(\"%d frames out of %d remain as hits (%.2f%%)\" \n",
    "      %(blacklist.shape[0]-blacklist.sum(), blacklist.shape[0], (blacklist.shape[0]-blacklist.sum()) / blacklist.shape[0] * 100.))"
   ]
  },
  {
   "cell_type": "code",
   "execution_count": 18,
   "metadata": {},
   "outputs": [],
   "source": [
    "np.savetxt(path_to_data + \"lowq/blacklist_0.txt\", blacklist, fmt=\"%d\")"
   ]
  },
  {
   "cell_type": "code",
   "execution_count": null,
   "metadata": {},
   "outputs": [],
   "source": []
  }
 ],
 "metadata": {
  "kernelspec": {
   "display_name": "Python 3",
   "language": "python",
   "name": "python3"
  },
  "language_info": {
   "codemirror_mode": {
    "name": "ipython",
    "version": 3
   },
   "file_extension": ".py",
   "mimetype": "text/x-python",
   "name": "python",
   "nbconvert_exporter": "python",
   "pygments_lexer": "ipython3",
   "version": "3.6.7"
  }
 },
 "nbformat": 4,
 "nbformat_minor": 2
}
