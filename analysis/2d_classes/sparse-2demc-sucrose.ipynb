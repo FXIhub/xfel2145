{
 "cells": [
  {
   "cell_type": "code",
   "execution_count": null,
   "metadata": {},
   "outputs": [],
   "source": [
    "import h5py, sys, os, time\n",
    "import numpy as np\n",
    "import scipy.ndimage as ndimage\n",
    "import matplotlib.pyplot as plt\n",
    "import matplotlib.colors as colors\n",
    "import matplotlib.cm as cm"
   ]
  },
  {
   "cell_type": "code",
   "execution_count": null,
   "metadata": {},
   "outputs": [],
   "source": [
    "import spimage"
   ]
  },
  {
   "cell_type": "code",
   "execution_count": null,
   "metadata": {},
   "outputs": [],
   "source": [
    "import sys; sys.path.append(\"../../offline/\")\n",
    "import sparse, geom, utils"
   ]
  },
  {
   "cell_type": "code",
   "execution_count": null,
   "metadata": {},
   "outputs": [],
   "source": [
    "sys.path.append('/mnt/cbis/home/benedikt/.local/dragonfly/utils/py_src')"
   ]
  },
  {
   "cell_type": "code",
   "execution_count": null,
   "metadata": {},
   "outputs": [],
   "source": [
    "import writeemc\n",
    "import detector\n",
    "import reademc"
   ]
  },
  {
   "cell_type": "code",
   "execution_count": null,
   "metadata": {},
   "outputs": [],
   "source": [
    "path_to_data = \"../../data/sparse/\" # scratch/sparse on Maxwell\n",
    "path_to_aux = \"../../data/aux/\" # scratch/benedikt/aux on Maxwell\n",
    "path_to_geometry = \"../../geometry/\"\n",
    "path_to_recons = \"../../data/recons/\""
   ]
  },
  {
   "cell_type": "code",
   "execution_count": null,
   "metadata": {},
   "outputs": [],
   "source": [
    "emc_folder   = path_to_recons + \"sucrose_0000/\"\n",
    "emc_output   = emc_folder + \"data/r0/output_060.h5\"\n",
    "emc_photons  = emc_folder + 'photons.txt'\n",
    "emc_detector = path_to_recons + \"det/det_2145_lowq5.h5\""
   ]
  },
  {
   "cell_type": "code",
   "execution_count": null,
   "metadata": {},
   "outputs": [],
   "source": [
    "photons_list = emc_folder + str(np.loadtxt(emc_photons, dtype=str))"
   ]
  },
  {
   "cell_type": "markdown",
   "metadata": {},
   "source": [
    "## Load EMC reconstruction"
   ]
  },
  {
   "cell_type": "code",
   "execution_count": null,
   "metadata": {},
   "outputs": [],
   "source": [
    "with h5py.File(emc_output,'r') as f:\n",
    "    occupancies = f['occupancies'][:]\n",
    "    likelihood = f['likelihood'][:]\n",
    "    orientations = f['orientations'][:]\n",
    "    images = f['intens'][:]\n",
    "    scale = f['scale'][:]"
   ]
  },
  {
   "cell_type": "markdown",
   "metadata": {},
   "source": [
    "## Determine modes"
   ]
  },
  {
   "cell_type": "code",
   "execution_count": null,
   "metadata": {},
   "outputs": [],
   "source": [
    "nr_rot = 180\n",
    "nr_static = 0\n",
    "nr_modes = occupancies.shape[1] - nr_static\n",
    "modes = orientations % (nr_modes)\n",
    "rotind = orientations // (nr_modes)\n",
    "modes[rotind >= nr_rot] = orientations[rotind >= nr_rot] - nr_modes * (nr_rot - 1)\n",
    "blacklisted = (occupancies == 0).all(axis=1)\n",
    "ndata = len(modes) - blacklisted.sum()"
   ]
  },
  {
   "cell_type": "markdown",
   "metadata": {},
   "source": [
    "## Inspecting 2D EMC classes"
   ]
  },
  {
   "cell_type": "code",
   "execution_count": null,
   "metadata": {},
   "outputs": [],
   "source": [
    "N = occupancies.shape[1]\n",
    "ncols = 5\n",
    "nrows = N//ncols\n",
    "fig, axes = plt.subplots(nrows=nrows, ncols=ncols, figsize=(ncols*4,nrows*4), dpi=200)\n",
    "for i in range(N):\n",
    "    c,r = i//ncols, i%ncols\n",
    "    axes[c,r].axis('off')\n",
    "    nclass = ((modes==i) & (~blacklisted)).sum()\n",
    "    axes[c,r].set_title(\"%d/%d [%.1f%%]\" %(nclass,ndata, nclass/ndata*100.))\n",
    "    axes[c,r].imshow(images[i], norm=colors.LogNorm(vmin=0.0001, vmax=3), cmap='cividis')\n",
    "    axes[c,r].text(0,0, \"%d\" %i, color='r')\n",
    "plt.savefig(\"../../plots/2dclasses.png\", bbox_inches='tight')\n",
    "plt.show()"
   ]
  },
  {
   "cell_type": "markdown",
   "metadata": {},
   "source": [
    "## Select non-spherical classes"
   ]
  },
  {
   "cell_type": "code",
   "execution_count": null,
   "metadata": {},
   "outputs": [],
   "source": [
    "remove = [0,5]\n",
    "blacklist = np.zeros(occupancies.shape[0], dtype=int)\n",
    "for m in remove:\n",
    "    blacklist[np.where(modes == m)[0]] = 1\n",
    "ndata = blacklist.shape[0] - blacklist.sum()"
   ]
  },
  {
   "cell_type": "code",
   "execution_count": null,
   "metadata": {},
   "outputs": [],
   "source": [
    "np.savetxt(emc_folder + \"blacklist_%d_%d.dat\" %(0,ndata), blacklist, fmt='%d')"
   ]
  },
  {
   "cell_type": "markdown",
   "metadata": {},
   "source": [
    "## Save templates "
   ]
  },
  {
   "cell_type": "code",
   "execution_count": null,
   "metadata": {},
   "outputs": [],
   "source": [
    "# Parameters\n",
    "photon_energy = 6.01 # keV\n",
    "wavelength = 1240. / photon_energy / 1e3 * 1e-9 # m\n",
    "distance = 0.705 # m\n",
    "pixelsize = 200e-6 # m\n",
    "rmax = 100\n",
    "material = 'sucrose'\n",
    "intensity0 = 1e7"
   ]
  },
  {
   "cell_type": "code",
   "execution_count": null,
   "metadata": {},
   "outputs": [],
   "source": [
    "# Detector sampling\n",
    "boxsize = (181,181)\n",
    "Y,X = spimage.grid(boxsize, (0,0))\n",
    "Xc = spimage.x_to_qx(X,pixelsize,distance)\n",
    "Yc = spimage.y_to_qy(Y,pixelsize,distance)\n",
    "q = np.sqrt(Xc**2 + Yc**2)"
   ]
  },
  {
   "cell_type": "code",
   "execution_count": null,
   "metadata": {},
   "outputs": [],
   "source": [
    "# Spherical template\n",
    "def template(diameter):\n",
    "    A = spimage.sphere_model_convert_intensity_to_scaling(intensity0, diameter, wavelength, pixelsize, \n",
    "                                                      distance, material=material)\n",
    "    s = spimage.sphere_model_convert_diameter_to_size(diameter, wavelength, pixelsize, distance)\n",
    "    return spimage.I_sphere_diffraction(A,q,s).astype(np.float64)"
   ]
  },
  {
   "cell_type": "code",
   "execution_count": null,
   "metadata": {},
   "outputs": [],
   "source": [
    "N = 100\n",
    "dmin = 50\n",
    "dstep = 2\n",
    "dsamples = np.arange(dmin,dmin+N*dstep,dstep) *1e-9"
   ]
  },
  {
   "cell_type": "code",
   "execution_count": null,
   "metadata": {},
   "outputs": [],
   "source": [
    "templates = np.array([template(d) for d in dsamples])"
   ]
  },
  {
   "cell_type": "code",
   "execution_count": null,
   "metadata": {},
   "outputs": [],
   "source": [
    "with h5py.File(emc_folder + \"data/r2/init.h5\", \"w\") as f:\n",
    "    f['intens'] = templates.astype(\"<f8\")\n",
    "    f['scale'] = np.ones(occupancies.shape[0], dtype=np.int32)\n",
    "    f['dsamples'] = dsamples\n",
    "    f['intensity'] = intensity0\n",
    "    f['wavelength'] = wavelength\n",
    "    f['pixelsize'] = pixelsize\n",
    "    f['distance'] = distance\n",
    "    f['material'] = material"
   ]
  },
  {
   "cell_type": "markdown",
   "metadata": {},
   "source": [
    "## Pick one sucrose 2D class"
   ]
  },
  {
   "cell_type": "code",
   "execution_count": null,
   "metadata": {},
   "outputs": [],
   "source": [
    "m = 14\n",
    "det = detector.Detector(emc_detector, mask_flag=True)\n",
    "emc = reademc.EMCReader(photons_list, det)\n",
    "view_index = np.where((modes == m) )[0]\n",
    "views_assembled = np.array([emc.get_frame(i) for i in view_index])\n",
    "views_modules = np.array([emc.get_frame(i, raw=True) for i in view_index])\n",
    "views_modules = views_modules.reshape((-1,4,128,128))"
   ]
  },
  {
   "cell_type": "code",
   "execution_count": null,
   "metadata": {},
   "outputs": [],
   "source": [
    "rot = rotind[modes == m]\n",
    "sca = scale[modes == m]\n",
    "x,y = geom.pixel_maps_from_geometry_file(\"../../geometry/b2_lowq.geom\")"
   ]
  },
  {
   "cell_type": "code",
   "execution_count": null,
   "metadata": {},
   "outputs": [],
   "source": [
    "def test_geometry(dx,dy,N=10, rotation=True):\n",
    "    x0,y0 = x.copy().reshape(4,128,128), y.copy().reshape(4,128,128)\n",
    "    for i in range(len(dx)):\n",
    "        x0[i] += dx[i]\n",
    "    for i in range(len(dy)):\n",
    "        y0[i] += dy[i]\n",
    "    x0 = x0.reshape(512,128)\n",
    "    y0 = y0.reshape(512,128)\n",
    "    avg = 0.\n",
    "    weights = 0.\n",
    "    mask1 = geom.apply_geom_ij_yx((y0, x0), det.raw_mask.reshape(4,128,128))[::-1,::-1]\n",
    "    mask2 = geom.apply_geom_ij_yx((y0, x0), np.ones((4,128,128)))[::-1,::-1]\n",
    "    mask = ((mask1 == 0) & (mask2 == 1)).astype(np.float)\n",
    "    for j in range(N):\n",
    "        img = geom.apply_geom_ij_yx((y0, x0), views_modules[j])[::-1,::-1]\n",
    "        if rotation:\n",
    "            img = ndimage.rotate(img, rot[j], reshape=False)\n",
    "            msk = ndimage.rotate(mask, rot[j], reshape=False)\n",
    "            avg += (img + ndimage.rotate(img, 180., reshape=False))\n",
    "            weights += (msk + ndimage.rotate(msk, 180., reshape=False))\n",
    "        else:\n",
    "            avg += img\n",
    "            weights += mask\n",
    "    avg[weights>=1] /= weights[weights>=1]\n",
    "    avg[weights<=1] = 0.\n",
    "    return avg, (weights >= 1)"
   ]
  },
  {
   "cell_type": "code",
   "execution_count": null,
   "metadata": {},
   "outputs": [],
   "source": [
    "def radial_averages(dx,dy,N=10):\n",
    "    x0,y0 = x.copy().reshape(4,128,128), y.copy().reshape(4,128,128)\n",
    "    for i in range(len(dx)):\n",
    "        x0[i] += dx[i]\n",
    "    for i in range(len(dy)):\n",
    "        y0[i] += dy[i]\n",
    "    x0 = x0.reshape(512,128)\n",
    "    y0 = y0.reshape(512,128)\n",
    "    mask1 = geom.apply_geom_ij_yx((y0, x0), det.raw_mask.reshape(4,128,128))[::-1,::-1]\n",
    "    mask2 = geom.apply_geom_ij_yx((y0, x0), np.ones((4,128,128)))[::-1,::-1]\n",
    "    mask = ((mask1 == 0) & (mask2 == 1)).astype(np.float)\n",
    "    centers = []\n",
    "    radials = []\n",
    "    for j in range(N):\n",
    "        img = geom.apply_geom_ij_yx((y0, x0), views_modules[j])[::-1,::-1]\n",
    "        center, radial = spimage.radialMeanImage(img, msk=mask, cx=img.shape[1]//2, cy=img.shape[0]//2, output_r=True)\n",
    "        centers.append(center)\n",
    "        radials.append(radial)\n",
    "    return np.array(centers), np.array(radials)"
   ]
  },
  {
   "cell_type": "code",
   "execution_count": null,
   "metadata": {},
   "outputs": [],
   "source": [
    "t0 = time.time()\n",
    "test0, mask0 = test_geometry([0,0,0,0], [0,0,0,0], N=rot.shape[0], rotation=True)\n",
    "test1, mask1 = test_geometry([0,0,0,0], [0,0,0,0], N=rot.shape[0], rotation=False)\n",
    "print(time.time() - t0)"
   ]
  },
  {
   "cell_type": "code",
   "execution_count": null,
   "metadata": {},
   "outputs": [],
   "source": [
    "mask0 *= ~spimage.rmask(mask0.shape, 19)"
   ]
  },
  {
   "cell_type": "code",
   "execution_count": null,
   "metadata": {},
   "outputs": [],
   "source": [
    "plt.figure(figsize=(10,10))\n",
    "plt.imshow(test0*mask0, norm=colors.LogNorm())\n",
    "plt.colorbar()\n",
    "plt.show()"
   ]
  },
  {
   "cell_type": "code",
   "execution_count": null,
   "metadata": {},
   "outputs": [],
   "source": [
    "centers0, radial0 = spimage.radialMeanImage(test0, msk=mask0, \n",
    "                                            cx=test0.shape[1]//2, cy=test0.shape[0]//2, output_r=True)\n",
    "centers1, radial1 = spimage.radialMeanImage(test1, msk=mask1, \n",
    "                                            cx=test1.shape[1]//2, cy=test1.shape[0]//2, output_r=True)"
   ]
  },
  {
   "cell_type": "markdown",
   "metadata": {},
   "source": [
    "## Parameters"
   ]
  },
  {
   "cell_type": "code",
   "execution_count": null,
   "metadata": {},
   "outputs": [],
   "source": [
    "photon_energy = 6.01 # keV\n",
    "wavelength = 1240. / photon_energy / 1e3 * 1e-9 # m\n",
    "distance = 0.732 # m\n",
    "pixelsize = 200e-6 # m\n",
    "rmax = 100\n",
    "material = 'sucrose'"
   ]
  },
  {
   "cell_type": "code",
   "execution_count": null,
   "metadata": {},
   "outputs": [],
   "source": [
    "photons = test0.copy()\n",
    "mask = mask0.copy()"
   ]
  },
  {
   "cell_type": "markdown",
   "metadata": {},
   "source": [
    "## Fit diameter"
   ]
  },
  {
   "cell_type": "code",
   "execution_count": null,
   "metadata": {},
   "outputs": [],
   "source": [
    "diameter, info = spimage.fit_sphere_diameter(photons, mask, 140e-9, 0.5e-9, \n",
    "                                             wavelength, pixelsize, distance,\n",
    "                                             method='pearson', full_output=True, x0=0, y0=0, \n",
    "                                             detector_adu_photon=1., detector_quantum_efficiency=1., \n",
    "                                             material=material, rmax=rmax, downsampling=1, \n",
    "                                             do_brute_evals=100, do_photon_counting=True, \n",
    "                                             maxfev=1000, brute_dmax=200e-9)"
   ]
  },
  {
   "cell_type": "code",
   "execution_count": null,
   "metadata": {},
   "outputs": [],
   "source": [
    "diameter*1e9"
   ]
  },
  {
   "cell_type": "code",
   "execution_count": null,
   "metadata": {},
   "outputs": [],
   "source": [
    "#diameter = 65e-9"
   ]
  },
  {
   "cell_type": "code",
   "execution_count": null,
   "metadata": {},
   "outputs": [],
   "source": [
    "intensity, info = spimage.fit_sphere_intensity(photons, mask, diameter, 1e-9, \n",
    "                                               wavelength, pixelsize, distance, \n",
    "                                               method='nrphotons', full_output=True, x0=0, y0=0, \n",
    "                                               detector_adu_photon=1., detector_quantum_efficiency=1., \n",
    "                                               material=material, rmax=rmax, downsampling=1, do_photon_counting=True)"
   ]
  },
  {
   "cell_type": "code",
   "execution_count": null,
   "metadata": {},
   "outputs": [],
   "source": [
    "intensity"
   ]
  },
  {
   "cell_type": "code",
   "execution_count": null,
   "metadata": {},
   "outputs": [],
   "source": [
    "dx, dy, diameter, intensity, info = spimage.fit_full_sphere_model(photons, mask, diameter, intensity,\n",
    "                                                                  wavelength, pixelsize, distance, \n",
    "                                                                  full_output=True, x0=0, y0=0, \n",
    "                                                                  detector_adu_photon=1., detector_quantum_efficiency=1., \n",
    "                                                                  material=material, rmax=rmax, \n",
    "                                                                  downsampling=1, do_photon_counting=False, deltab=0.5, n=2)"
   ]
  },
  {
   "cell_type": "code",
   "execution_count": null,
   "metadata": {},
   "outputs": [],
   "source": [
    "diameter, intensity, dx,dy"
   ]
  },
  {
   "cell_type": "code",
   "execution_count": null,
   "metadata": {},
   "outputs": [],
   "source": [
    "#diameter *= 2\n",
    "#intensity = 0.8e7"
   ]
  },
  {
   "cell_type": "code",
   "execution_count": null,
   "metadata": {},
   "outputs": [],
   "source": [
    "# Detector sampling\n",
    "Y,X = spimage.grid(photons.shape, (0,0))\n",
    "Xc = spimage.x_to_qx(X - dx,pixelsize,distance)\n",
    "Yc = spimage.y_to_qy(Y - dy,pixelsize,distance)\n",
    "q = np.sqrt(Xc**2 + Yc**2)\n",
    "qr = spimage.x_to_qx(np.arange(0,photons.shape[0]/2.), pixelsize, distance)"
   ]
  },
  {
   "cell_type": "code",
   "execution_count": null,
   "metadata": {},
   "outputs": [],
   "source": [
    "# Radial average\n",
    "centers, photons_r = spimage.radialMeanImage(photons, msk=mask, \n",
    "                                             cx=photons.shape[1]/2+dx, cy=photons.shape[0]/2+dy, output_r=True)\n",
    "photons_qr = spimage.x_to_qx(centers, pixelsize, distance)[:photons.shape[0]//2]\n",
    "photons_r  = photons_r[:photons.shape[0]//2]"
   ]
  },
  {
   "cell_type": "code",
   "execution_count": null,
   "metadata": {},
   "outputs": [],
   "source": [
    "# Fitted diffraction pattern\n",
    "A = spimage.sphere_model_convert_intensity_to_scaling(intensity, diameter, wavelength, pixelsize, \n",
    "                                                      distance, material=material)\n",
    "s = spimage.sphere_model_convert_diameter_to_size(diameter, wavelength, pixelsize, distance)\n",
    "fit_2d = spimage.I_sphere_diffraction(A,q,s).astype(np.float64)\n",
    "fit_1d = spimage.I_sphere_diffraction(A,qr,s)"
   ]
  },
  {
   "cell_type": "code",
   "execution_count": null,
   "metadata": {},
   "outputs": [],
   "source": [
    "# customized colors\n",
    "cmap = cm.get_cmap('magma')\n",
    "cmap.set_bad('green')\n",
    "cmap.set_under('black')"
   ]
  },
  {
   "cell_type": "code",
   "execution_count": null,
   "metadata": {},
   "outputs": [],
   "source": [
    "img = np.copy(test1)\n",
    "img[:,:test1.shape[1]//2] = fit_2d[:,:test1.shape[1]//2]\n",
    "img[img == 0] = 1e-10\n",
    "img[~(mask1)] = np.nan\n",
    "cmap.set_bad('0.9')\n",
    "cmap.set_under('white')\n",
    "fig, axes = plt.subplots(ncols=2, figsize=(12,5), dpi=100)\n",
    "axes[0].axis('off')\n",
    "axes[0].set_title('left side: data / right side: fit')\n",
    "axes[0].imshow(img*mask1, norm=colors.LogNorm(vmin=1e-5, vmax=5), cmap=cmap)\n",
    "axes[1].plot(photons_qr, photons_r, label='data')\n",
    "axes[1].plot(qr, fit_1d, label='fit')\n",
    "axes[1].semilogy()\n",
    "axes[1].set_ylim(1e-3,100)\n",
    "axes[1].set_title(\"Mode = %02d\" %m)\n",
    "axes[1].legend(frameon=False)\n",
    "plt.savefig(\"../../plots/sucrose/fit_%02d.png\" %m, bbox_inches='tight')\n",
    "plt.show()"
   ]
  },
  {
   "cell_type": "code",
   "execution_count": null,
   "metadata": {},
   "outputs": [],
   "source": [
    "plt.figure()\n",
    "plt.plot(centers0, radial0/radial0.sum(), label='rot. averaged')\n",
    "plt.plot(centers1, radial1/radial1.sum(), label='stat. averaged')\n",
    "plt.semilogy()\n",
    "plt.legend()\n",
    "plt.show()"
   ]
  },
  {
   "cell_type": "code",
   "execution_count": null,
   "metadata": {},
   "outputs": [],
   "source": [
    "C,R = radial_averages([0,0,0,0], [0,0,0,0], N=sca.shape[0])"
   ]
  },
  {
   "cell_type": "code",
   "execution_count": null,
   "metadata": {},
   "outputs": [],
   "source": [
    "Rfit = []\n",
    "for j in range(sca.shape[0]):\n",
    "    A = spimage.sphere_model_convert_intensity_to_scaling(intensity*sca[j], diameter, wavelength, pixelsize, \n",
    "                                                          distance, material=material)\n",
    "    s = spimage.sphere_model_convert_diameter_to_size(diameter, wavelength, pixelsize, distance)\n",
    "    Rfit.append(spimage.I_sphere_diffraction(A,qr[18:],s))\n",
    "Rfit = np.array(Rfit)\n",
    "Rfit = Rfit[np.argsort(sca[:])][::-1]"
   ]
  },
  {
   "cell_type": "code",
   "execution_count": null,
   "metadata": {},
   "outputs": [],
   "source": [
    "Rdata = R[np.argsort(sca[:]),:159][::-1]\n",
    "Rdata[Rdata == 0] = 1e-3\n",
    "plt.imshow(Rdata, norm=colors.LogNorm(vmin=1e-3, vmax=2), aspect='auto')\n",
    "plt.colorbar()\n",
    "plt.show()"
   ]
  },
  {
   "cell_type": "code",
   "execution_count": null,
   "metadata": {},
   "outputs": [],
   "source": [
    "plt.figure()\n",
    "plt.imshow(Rfit, norm=colors.LogNorm(vmin=1e-3, vmax=2), aspect='auto')\n",
    "plt.colorbar()\n",
    "plt.show()"
   ]
  },
  {
   "cell_type": "code",
   "execution_count": null,
   "metadata": {},
   "outputs": [],
   "source": [
    "plt.figure()\n",
    "plt.imshow(Rfit, vmin=0, vmax=2, aspect='auto')\n",
    "plt.colorbar()\n",
    "plt.show()"
   ]
  },
  {
   "cell_type": "code",
   "execution_count": null,
   "metadata": {},
   "outputs": [],
   "source": [
    "plt.figure()\n",
    "plt.plot(Rfit[400])\n",
    "plt.plot(Rdata[400])\n",
    "plt.semilogy()\n",
    "plt.ylim(1e-3,1000)\n",
    "plt.show()"
   ]
  },
  {
   "cell_type": "code",
   "execution_count": null,
   "metadata": {},
   "outputs": [],
   "source": [
    "plt.figure()\n",
    "plt.plot(np.sort(intensity*sca*1e-6)[::-1])\n",
    "plt.show()"
   ]
  },
  {
   "cell_type": "code",
   "execution_count": null,
   "metadata": {},
   "outputs": [],
   "source": [
    "plt.hist(intensity*sca*1e-6, bins=50)\n",
    "plt.show()"
   ]
  },
  {
   "cell_type": "code",
   "execution_count": null,
   "metadata": {},
   "outputs": [],
   "source": [
    "with h5py.File(path_to_aux + '/sucrose/results_%02d.h5' %(m), \"w\") as f:\n",
    "    f['diameter'] = diameter\n",
    "    f['intensity'] = intensity\n",
    "    f['scale'] = np.sort(sca)[::-1]\n",
    "    f['photons'] = photons\n",
    "    f['mask'] = mask\n",
    "    f['rdata'] = Rdata\n",
    "    f['rfit'] = Rfit\n",
    "    f['qr'] = qr[18:]\n",
    "    f['wavelength'] = wavelength\n",
    "    f['distance'] = distance\n",
    "    f['pixelsize'] = pixelsize"
   ]
  },
  {
   "cell_type": "code",
   "execution_count": null,
   "metadata": {},
   "outputs": [],
   "source": []
  }
 ],
 "metadata": {
  "kernelspec": {
   "display_name": "Python 3",
   "language": "python",
   "name": "python3"
  },
  "language_info": {
   "codemirror_mode": {
    "name": "ipython",
    "version": 3
   },
   "file_extension": ".py",
   "mimetype": "text/x-python",
   "name": "python",
   "nbconvert_exporter": "python",
   "pygments_lexer": "ipython3",
   "version": "3.6.7"
  }
 },
 "nbformat": 4,
 "nbformat_minor": 2
}
