{
 "cells": [
  {
   "cell_type": "code",
   "execution_count": null,
   "metadata": {},
   "outputs": [],
   "source": [
    "import h5py\n",
    "import numpy as np\n",
    "import matplotlib.pyplot as plt\n",
    "import matplotlib.colors as colors\n",
    "import matplotlib.cm as cm\n",
    "%matplotlib inline"
   ]
  },
  {
   "cell_type": "code",
   "execution_count": null,
   "metadata": {},
   "outputs": [],
   "source": [
    "import sys; sys.path.append(\"../../offline/\")\n",
    "import sparse, geom, utils"
   ]
  },
  {
   "cell_type": "code",
   "execution_count": null,
   "metadata": {},
   "outputs": [],
   "source": [
    "path_to_data = \"../../data/sparse/\" # scratch/sparse on Maxwell\n",
    "path_to_aux = \"../../data/aux/\" # scratch/benedikt/aux on Maxwell\n",
    "path_to_geometry = \"../../geometry/\""
   ]
  },
  {
   "cell_type": "code",
   "execution_count": null,
   "metadata": {},
   "outputs": [],
   "source": [
    "run = 592"
   ]
  },
  {
   "cell_type": "markdown",
   "metadata": {},
   "source": [
    "## Load goodpixel mask"
   ]
  },
  {
   "cell_type": "code",
   "execution_count": null,
   "metadata": {},
   "outputs": [],
   "source": [
    "with h5py.File(path_to_aux + \"goodpixels.h5\", 'r') as f:\n",
    "    goodpixels = f['data/data'][:]"
   ]
  },
  {
   "cell_type": "markdown",
   "metadata": {},
   "source": [
    "## Load cell ids and litpixel scores"
   ]
  },
  {
   "cell_type": "code",
   "execution_count": null,
   "metadata": {},
   "outputs": [],
   "source": [
    "with sparse.Run(path_to_data + \"r%04d.h5\" %run) as r:\n",
    "    cells = r.cellIds\n",
    "    score = r.litpixel\n",
    "goodcells = np.ones(len(cells), dtype=np.bool)\n",
    "goodcells[cells == 0] = False\n",
    "if run <= 577:\n",
    "    goodcells[cells >= 142] = False"
   ]
  },
  {
   "cell_type": "markdown",
   "metadata": {},
   "source": [
    "## Lit-pixel histogram"
   ]
  },
  {
   "cell_type": "code",
   "execution_count": null,
   "metadata": {},
   "outputs": [],
   "source": [
    "plt.figure(figsize=(10,4), dpi=300)\n",
    "plt.hist(score[goodcells], range=(0,1000), bins=500)\n",
    "plt.axvline(105, ls=':', color='r')\n",
    "plt.savefig(\"../../plots/r%04d_litpixel_histogram.png\" %run, bbox_inches='tight')\n",
    "plt.show()"
   ]
  },
  {
   "cell_type": "markdown",
   "metadata": {},
   "source": [
    "## Hit-rate"
   ]
  },
  {
   "cell_type": "code",
   "execution_count": null,
   "metadata": {},
   "outputs": [],
   "source": [
    "threshold = 105\n",
    "nhits = (score[goodcells]>threshold).sum()\n",
    "nevents = goodcells.sum() \n",
    "print(\"Number of hits for run %d: %d\" %(run,nhits))\n",
    "print(\"The hitrate for run %d is %.4f%%\" %(run,  nhits / nevents * 100.))"
   ]
  },
  {
   "cell_type": "markdown",
   "metadata": {},
   "source": [
    "## Glorious shots (the 50 strongest hits)"
   ]
  },
  {
   "cell_type": "code",
   "execution_count": null,
   "metadata": {},
   "outputs": [],
   "source": [
    "strong = np.argsort(score)[::-1][:50]"
   ]
  },
  {
   "cell_type": "code",
   "execution_count": null,
   "metadata": {},
   "outputs": [],
   "source": [
    "cx = 450\n",
    "cy = 520\n",
    "fig, axes = plt.subplots(nrows=5, ncols=10, figsize=(10,5), dpi=300)\n",
    "fig.suptitle(\"Run %d (50 strongest hits)\" %(run), y=0.95)\n",
    "cmap = cm.get_cmap('inferno')\n",
    "cmap.set_bad('0.75')\n",
    "cmap.set_under('1.0')\n",
    "for j in range(50):\n",
    "    c,r = j//10, j%10\n",
    "    axes[c,r].set_xticks([])\n",
    "    axes[c,r].set_yticks([])\n",
    "    with sparse.Frame(path_to_data + \"r%04d.h5\" %run, geometry=path_to_geometry + \"b1.geom\", goodmask=goodpixels) as f:\n",
    "        img = np.float64(f.assembled(strong[j]))\n",
    "        msk = (f.activepixels & f.goodpixels)\n",
    "    mimg = np.ma.masked_array(img, mask=1-msk)\n",
    "    mimg.data[mimg.data==0] = 1e-10\n",
    "    axes[c,r].imshow(mimg[cy:-cy, cx:-cx], norm=colors.LogNorm(vmin=1, vmax=100), cmap=cmap)\n",
    "plt.savefig(\"../../plots/r%04d_best_shots.png\" %run, bbox_inches='tight')\n",
    "plt.show()"
   ]
  },
  {
   "cell_type": "markdown",
   "metadata": {},
   "source": [
    "## Not so glorious shots (the 50 weakest hits)"
   ]
  },
  {
   "cell_type": "code",
   "execution_count": null,
   "metadata": {},
   "outputs": [],
   "source": [
    "weak = np.argsort(score)[::-1][:nhits][-50:]"
   ]
  },
  {
   "cell_type": "code",
   "execution_count": null,
   "metadata": {},
   "outputs": [],
   "source": [
    "cx = 450\n",
    "cy = 520\n",
    "fig, axes = plt.subplots(nrows=5, ncols=10, figsize=(10,5), dpi=300)\n",
    "fig.suptitle(\"Run %d (50 weakest hits)\" %(run), y=0.95)\n",
    "cmap = cm.get_cmap('inferno')\n",
    "cmap.set_bad('0.75')\n",
    "cmap.set_under('1.0')\n",
    "for j in range(50):\n",
    "    c,r = j//10, j%10\n",
    "    axes[c,r].set_xticks([])\n",
    "    axes[c,r].set_yticks([])\n",
    "    with sparse.Frame(path_to_data + \"r%04d.h5\" %run, geometry=path_to_geometry + \"b2.geom\", goodmask=goodpixels) as f:\n",
    "        img = np.float64(f.assembled(weak[j]))\n",
    "        msk = (f.activepixels & f.goodpixels)\n",
    "    mimg = np.ma.masked_array(img, mask=1-msk)\n",
    "    mimg.data[mimg.data==0] = 1e-20\n",
    "    axes[c,r].imshow(mimg[cy:-cy, cx:-cx], norm=colors.LogNorm(vmin=1, vmax=10), cmap=cmap)\n",
    "plt.savefig(\"../../plots/r%04d_weakest_shots.png\" %run, bbox_inches='tight')\n",
    "plt.show()"
   ]
  },
  {
   "cell_type": "markdown",
   "metadata": {},
   "source": [
    "## Count lit pixels\n",
    "using inner 128x128 pixels of modules 3,4,8,15"
   ]
  },
  {
   "cell_type": "code",
   "execution_count": null,
   "metadata": {},
   "outputs": [],
   "source": [
    "debug = False\n",
    "if debug:\n",
    "    with sparse.Litpixel(path_to_data + \"r%04d.h5\" %run, goodmask=goodpixels) as lp:\n",
    "        hitmsk = lp.goodmask & lp.hitmask\n",
    "        score = lp.count()"
   ]
  },
  {
   "cell_type": "code",
   "execution_count": null,
   "metadata": {},
   "outputs": [],
   "source": [
    "plot_litpixel_mask = False\n",
    "if plot_litpixel_mask:\n",
    "    plt.figure(figsize=(10,10), dpi=100)\n",
    "    plt.axis('off')\n",
    "    plt.imshow(utils.assemble(hitmsk, path_to_geometry + \"b2.geom\"), cmap='gray')\n",
    "    plt.savefig(\"../../plots/hitfinding_mask.png\", bbox_inches='tight')\n",
    "    plt.show()"
   ]
  },
  {
   "cell_type": "markdown",
   "metadata": {},
   "source": [
    "## Lit-pixels vs. cells"
   ]
  },
  {
   "cell_type": "code",
   "execution_count": null,
   "metadata": {},
   "outputs": [],
   "source": [
    "plt.figure(figsize=(8,4), dpi=200)\n",
    "plt.title(\"Run %d (lit pixels vs. cells)\" %run)\n",
    "plt.plot(cells[goodcells], score[goodcells], 'bo', ms=1)\n",
    "plt.plot(cells[~goodcells], score[~goodcells], 'ro', ms=1)\n",
    "plt.axhline(threshold, ls=':', color='r')\n",
    "plt.xlabel(\"cell id\")\n",
    "plt.ylabel(\"nr. of lit pixels\")\n",
    "plt.ylim(0,500)\n",
    "plt.savefig(\"../../plots/r%04d_litpixel_vs_cells.png\" %run)\n",
    "plt.show()"
   ]
  },
  {
   "cell_type": "code",
   "execution_count": null,
   "metadata": {},
   "outputs": [],
   "source": []
  }
 ],
 "metadata": {
  "kernelspec": {
   "display_name": "Python 3",
   "language": "python",
   "name": "python3"
  },
  "language_info": {
   "codemirror_mode": {
    "name": "ipython",
    "version": 3
   },
   "file_extension": ".py",
   "mimetype": "text/x-python",
   "name": "python",
   "nbconvert_exporter": "python",
   "pygments_lexer": "ipython3",
   "version": "3.6.7"
  }
 },
 "nbformat": 4,
 "nbformat_minor": 2
}
