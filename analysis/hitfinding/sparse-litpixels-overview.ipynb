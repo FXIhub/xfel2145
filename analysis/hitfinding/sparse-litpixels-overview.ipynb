{
 "cells": [
  {
   "cell_type": "code",
   "execution_count": null,
   "metadata": {},
   "outputs": [],
   "source": [
    "import h5py\n",
    "import numpy as np\n",
    "import matplotlib.pyplot as plt\n",
    "import matplotlib.colors as colors\n",
    "import matplotlib.cm as cm\n",
    "%matplotlib inline"
   ]
  },
  {
   "cell_type": "code",
   "execution_count": null,
   "metadata": {},
   "outputs": [],
   "source": [
    "import sys; sys.path.append(\"../../offline/\")\n",
    "import sparse, geom, utils"
   ]
  },
  {
   "cell_type": "code",
   "execution_count": null,
   "metadata": {},
   "outputs": [],
   "source": [
    "path_to_data = \"../../data/sparse/\" # scratch/sparse on Maxwell\n",
    "path_to_aux = \"../../data/aux/\" # scratch/benedikt/aux on Maxwell\n",
    "path_to_geometry = \"../../geometry/\""
   ]
  },
  {
   "cell_type": "markdown",
   "metadata": {},
   "source": [
    "## Load cell ids and scores"
   ]
  },
  {
   "cell_type": "code",
   "execution_count": null,
   "metadata": {},
   "outputs": [],
   "source": [
    "runs = range(564,596+1)"
   ]
  },
  {
   "cell_type": "code",
   "execution_count": null,
   "metadata": {},
   "outputs": [],
   "source": [
    "histogram = np.zeros((len(runs),500))\n",
    "for i,run in enumerate(runs[:]):\n",
    "    try:\n",
    "        with sparse.Run(path_to_data + \"r%04d.h5\" %run) as r:\n",
    "            cells = r.cellIds\n",
    "            score = r.litpixel\n",
    "        goodcells = np.ones(len(cells), dtype=np.bool)\n",
    "        goodcells[cells == 0] = False\n",
    "        if run <= 577:\n",
    "            goodcells[cells >= 142] = False\n",
    "        if score is not None:\n",
    "            histogram[i], centers = np.histogram(score[goodcells], range=(0,1000), bins=500, density=True)\n",
    "    except:\n",
    "        pass"
   ]
  },
  {
   "cell_type": "code",
   "execution_count": null,
   "metadata": {},
   "outputs": [],
   "source": [
    "mimg = np.ma.masked_array(histogram, mask=histogram==0)\n",
    "cmap = cm.get_cmap('twilight')\n",
    "cmap.set_bad('1.0')\n",
    "plt.figure(figsize=(15,7), dpi=300)\n",
    "plt.imshow(mimg, aspect='auto', vmin=0, vmax=.04, cmap=cmap)\n",
    "plt.yticks(range(len(runs)), labels=runs)\n",
    "plt.xticks(range(500)[::50], labels=range(1000)[::100])\n",
    "plt.axvline(105/2., ls=':', color='g')\n",
    "plt.xlabel(\"Nr. of lit pixels\")\n",
    "plt.ylabel(\"Run\")\n",
    "plt.savefig(\"../../plots/litpixels.png\", bbox_inches='tight')\n",
    "plt.show()"
   ]
  }
 ],
 "metadata": {
  "kernelspec": {
   "display_name": "Python 3",
   "language": "python",
   "name": "python3"
  },
  "language_info": {
   "codemirror_mode": {
    "name": "ipython",
    "version": 3
   },
   "file_extension": ".py",
   "mimetype": "text/x-python",
   "name": "python",
   "nbconvert_exporter": "python",
   "pygments_lexer": "ipython3",
   "version": "3.6.7"
  }
 },
 "nbformat": 4,
 "nbformat_minor": 2
}
