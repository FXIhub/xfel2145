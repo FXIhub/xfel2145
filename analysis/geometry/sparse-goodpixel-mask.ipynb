{
 "cells": [
  {
   "cell_type": "code",
   "execution_count": 1,
   "metadata": {},
   "outputs": [],
   "source": [
    "import h5py, os\n",
    "import numpy as np\n",
    "import matplotlib.pyplot as plt\n",
    "import matplotlib.colors as colors\n",
    "import matplotlib.cm as cm"
   ]
  },
  {
   "cell_type": "code",
   "execution_count": 2,
   "metadata": {},
   "outputs": [],
   "source": [
    "import sys; sys.path.append(\"../../offline/\")\n",
    "import sparse, geom, utils"
   ]
  },
  {
   "cell_type": "code",
   "execution_count": 3,
   "metadata": {},
   "outputs": [],
   "source": [
    "path_to_data = \"../../data/sparse/\" # scratch/sparse on Maxwell\n",
    "path_to_aux = \"../../data/aux/\" # scratch/benedikt/aux on Maxwell\n",
    "path_to_geometry = \"../../geometry/\"\n",
    "path_to_recons = \"../../data/recons/\""
   ]
  },
  {
   "cell_type": "markdown",
   "metadata": {},
   "source": [
    "## Dead pixels\n",
    "These are pixels with no response as detected by background powder with zero-valued pixels"
   ]
  },
  {
   "cell_type": "code",
   "execution_count": 4,
   "metadata": {},
   "outputs": [],
   "source": [
    "run = 595\n",
    "with h5py.File(path_to_aux + \"r%04d_powder.h5\" %run, 'r') as f:\n",
    "    powder_modules = f['data'][:]\n",
    "deadpixels = (powder_modules.sum(axis=0)==0)"
   ]
  },
  {
   "cell_type": "markdown",
   "metadata": {},
   "source": [
    "## mask strong pixels in the per-cell background powder"
   ]
  },
  {
   "cell_type": "code",
   "execution_count": 5,
   "metadata": {},
   "outputs": [],
   "source": [
    "cutoff = 200\n",
    "belowstrong = (powder_modules < cutoff).all(axis=0)"
   ]
  },
  {
   "cell_type": "markdown",
   "metadata": {},
   "source": [
    "## Customized mask for panels 3,4,8,15\n",
    "Pixels have been masked manually"
   ]
  },
  {
   "cell_type": "code",
   "execution_count": 6,
   "metadata": {},
   "outputs": [],
   "source": [
    "filename = path_to_aux + \"det_lowq.h5\"\n",
    "with h5py.File(filename) as f:\n",
    "    custom = np.transpose(f['mask'][:].reshape(4,128,128), axes=(0,2,1))\n",
    "goodpixels = np.ones((16,128,512), dtype=np.bool)\n",
    "goodpixels[3,:,-128:]  = (custom[0] == 0)\n",
    "goodpixels[4,:,-128:]  = (custom[1] == 0)\n",
    "goodpixels[8,:,-128:]  = (custom[2] == 0)\n",
    "goodpixels[15,:,-128:] = (custom[3] == 0)"
   ]
  },
  {
   "cell_type": "markdown",
   "metadata": {},
   "source": [
    "## Mask bad asic"
   ]
  },
  {
   "cell_type": "code",
   "execution_count": 7,
   "metadata": {},
   "outputs": [],
   "source": [
    "badasic = np.zeros((16,128,512), dtype=np.bool)\n",
    "badasic[5,64:,3*64:4*64] = True"
   ]
  },
  {
   "cell_type": "markdown",
   "metadata": {},
   "source": [
    "## Combine all masks into a single goodpixel mask"
   ]
  },
  {
   "cell_type": "code",
   "execution_count": 8,
   "metadata": {},
   "outputs": [],
   "source": [
    "goodpixels &= (~deadpixels)\n",
    "goodpixels &= (~badasic)\n",
    "goodpixels &= (belowstrong)"
   ]
  },
  {
   "cell_type": "markdown",
   "metadata": {},
   "source": [
    "## Plot assembled mask"
   ]
  },
  {
   "cell_type": "code",
   "execution_count": 9,
   "metadata": {},
   "outputs": [
    {
     "data": {
      "image/png": "[encoded data removed]",
      "text/plain": [
       "<Figure size 1000x1000 with 1 Axes>"
      ]
     },
     "metadata": {},
     "output_type": "display_data"
    }
   ],
   "source": [
    "plt.figure(figsize=(10,10), dpi=100)\n",
    "plt.axis('off')\n",
    "plt.imshow(utils.assemble(goodpixels, path_to_geometry + \"b1.geom\"), cmap='gray')\n",
    "plt.savefig(\"../../plots/goodpixels.png\", bbox_inches='tight')\n",
    "plt.show()"
   ]
  },
  {
   "cell_type": "markdown",
   "metadata": {},
   "source": [
    "## Save mask to file"
   ]
  },
  {
   "cell_type": "code",
   "execution_count": 10,
   "metadata": {},
   "outputs": [],
   "source": [
    "with h5py.File(path_to_aux + \"goodpixels.h5\", \"w\") as f:\n",
    "    f['data/data'] = goodpixels"
   ]
  },
  {
   "cell_type": "markdown",
   "metadata": {},
   "source": [
    "## Save updated mask to lowq detector file"
   ]
  },
  {
   "cell_type": "code",
   "execution_count": 11,
   "metadata": {},
   "outputs": [],
   "source": [
    "lowq_mask = np.zeros((4,128,128), dtype='u1')\n",
    "lowq_mask[0][~goodpixels[3,:,-128:]]  = 2\n",
    "lowq_mask[1][~goodpixels[4,:,-128:]]  = 2\n",
    "lowq_mask[2][~goodpixels[8,:,-128:]]  = 2\n",
    "lowq_mask[3][~goodpixels[15,:,-128:]] = 2"
   ]
  },
  {
   "cell_type": "code",
   "execution_count": 12,
   "metadata": {},
   "outputs": [
    {
     "data": {
      "text/plain": [
       "0"
      ]
     },
     "execution_count": 12,
     "metadata": {},
     "output_type": "execute_result"
    }
   ],
   "source": [
    "os.system(\"cp %s %s\" %(path_to_aux + \"det_lowq.h5\", path_to_recons + \"det/det_lowq7.h5\"))"
   ]
  },
  {
   "cell_type": "code",
   "execution_count": 14,
   "metadata": {},
   "outputs": [],
   "source": [
    "filename = path_to_recons + \"det/det_lowq7.h5\"\n",
    "with h5py.File(filename, \"a\") as f:\n",
    "    f['mask'][:] = np.transpose(lowq_mask, axes=(0,2,1)).ravel()"
   ]
  },
  {
   "cell_type": "code",
   "execution_count": null,
   "metadata": {},
   "outputs": [],
   "source": []
  }
 ],
 "metadata": {
  "kernelspec": {
   "display_name": "Python 3",
   "language": "python",
   "name": "python3"
  },
  "language_info": {
   "codemirror_mode": {
    "name": "ipython",
    "version": 3
   },
   "file_extension": ".py",
   "mimetype": "text/x-python",
   "name": "python",
   "nbconvert_exporter": "python",
   "pygments_lexer": "ipython3",
   "version": "3.6.7"
  }
 },
 "nbformat": 4,
 "nbformat_minor": 2
}
