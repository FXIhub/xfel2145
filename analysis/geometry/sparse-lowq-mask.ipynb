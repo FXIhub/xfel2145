{
 "cells": [
  {
   "cell_type": "code",
   "execution_count": null,
   "metadata": {},
   "outputs": [],
   "source": [
    "import h5py, os\n",
    "import numpy as np\n",
    "import matplotlib.pyplot as plt\n",
    "import matplotlib.colors as colors\n",
    "import matplotlib.cm as cm"
   ]
  },
  {
   "cell_type": "code",
   "execution_count": null,
   "metadata": {},
   "outputs": [],
   "source": [
    "import sys; sys.path.append(\"../../offline/\")\n",
    "import sparse, geom, utils"
   ]
  },
  {
   "cell_type": "code",
   "execution_count": null,
   "metadata": {},
   "outputs": [],
   "source": [
    "path_to_data = \"../../data/sparse/\" # scratch/sparse on Maxwell\n",
    "path_to_aux = \"../../data/aux/\" # scratch/benedikt/aux on Maxwell\n",
    "path_to_geometry = \"../../geometry/\"\n",
    "path_to_recons = \"../../data/recons/\""
   ]
  },
  {
   "cell_type": "markdown",
   "metadata": {},
   "source": [
    "## Load detector file from 2160"
   ]
  },
  {
   "cell_type": "code",
   "execution_count": null,
   "metadata": {},
   "outputs": [],
   "source": [
    "emc_detector = path_to_recons + \"det/det_2160_lowq7.h5\"\n",
    "with h5py.File(emc_detector, \"r\") as f:\n",
    "    mask = f['mask'][:].reshape((4,128,128))\n",
    "new_mask = mask.copy()"
   ]
  },
  {
   "cell_type": "markdown",
   "metadata": {},
   "source": [
    "## Include bad-pixels (identified during 2DEMC classification)"
   ]
  },
  {
   "cell_type": "code",
   "execution_count": null,
   "metadata": {},
   "outputs": [],
   "source": [
    "# from cell 1\n",
    "new_mask[0,107:108+1,16:107+1] = 2\n",
    "new_mask[0,109,106] = 2\n",
    "new_mask[0,109,108] = 2\n",
    "new_mask[0,114,109] = 2\n",
    "new_mask[0,116,108] = 2\n",
    "new_mask[0,120,107] = 2\n",
    "new_mask[0,123,104] = 2\n",
    "new_mask[0,125,103] = 2\n",
    "new_mask[0,125,106] = 2"
   ]
  },
  {
   "cell_type": "code",
   "execution_count": null,
   "metadata": {},
   "outputs": [],
   "source": [
    "# from cell 2\n",
    "new_mask[3,125,57:58+1] = 2\n",
    "new_mask[3,126,58:59+1] = 2\n",
    "new_mask[3,124,42] = 2\n",
    "new_mask[3,122,41:42+1] = 2\n",
    "new_mask[3,114:118+1,37] = 2\n",
    "new_mask[3,114:117+1,36] = 2\n",
    "new_mask[3,115,35] = 2\n",
    "new_mask[3,111,35] = 2\n",
    "new_mask[3,109,34:36+1] = 2\n",
    "new_mask[3,106:108+1,33:36+1] = 2\n",
    "new_mask[3,105,34] = 2"
   ]
  },
  {
   "cell_type": "code",
   "execution_count": null,
   "metadata": {},
   "outputs": [],
   "source": [
    "# from cell 12\n",
    "new_mask[3,110,35] = 2\n",
    "new_mask[3,90,27] = 2\n",
    "new_mask[3,68,40] = 2\n",
    "new_mask[3,20,67] = 2\n",
    "new_mask[3,34,116] = 2\n",
    "new_mask[3,105,103] = 2"
   ]
  },
  {
   "cell_type": "code",
   "execution_count": null,
   "metadata": {},
   "outputs": [],
   "source": [
    "# bright outliers\n",
    "new_mask[1,27,34] = 2\n",
    "new_mask[1,45,47] = 2\n",
    "new_mask[0,112,105]  = 2"
   ]
  },
  {
   "cell_type": "code",
   "execution_count": null,
   "metadata": {},
   "outputs": [],
   "source": [
    "# more bad-pixels\n",
    "new_mask[1,122,20:23] = 2\n",
    "new_mask[1,124,20:23] = 2"
   ]
  },
  {
   "cell_type": "code",
   "execution_count": null,
   "metadata": {},
   "outputs": [],
   "source": [
    "# Halo from direct beam\n",
    "new_mask[1,124,1:10] = 2\n",
    "new_mask[1,125,1:12] = 2\n",
    "new_mask[1,126,1:14] = 2"
   ]
  },
  {
   "cell_type": "markdown",
   "metadata": {},
   "source": [
    "## Plot new mask"
   ]
  },
  {
   "cell_type": "code",
   "execution_count": null,
   "metadata": {},
   "outputs": [],
   "source": [
    "plt.figure(figsize=(5,5), dpi=100)\n",
    "plt.axis('off')\n",
    "plt.imshow(utils.assemble(np.transpose(new_mask, axes=(0,2,1)), path_to_geometry + \"b2_lowq.geom\"), cmap='gray')\n",
    "plt.savefig(\"../../plots/lowq_mask1.png\", bbox_inches='tight')\n",
    "plt.show()"
   ]
  },
  {
   "cell_type": "markdown",
   "metadata": {},
   "source": [
    "## Save mask in new detector file (version 1)"
   ]
  },
  {
   "cell_type": "code",
   "execution_count": null,
   "metadata": {},
   "outputs": [],
   "source": [
    "new_detector = path_to_recons + \"det/det_2145_lowq1.h5\"\n",
    "os.system(\"cp %s %s\" %(emc_detector, new_detector))\n",
    "with h5py.File(new_detector, \"a\") as f:\n",
    "    f['mask'][:] = new_mask.ravel()"
   ]
  },
  {
   "cell_type": "markdown",
   "metadata": {},
   "source": [
    "## Include statistical outliers from long dark (run 597)"
   ]
  },
  {
   "cell_type": "code",
   "execution_count": null,
   "metadata": {},
   "outputs": [],
   "source": [
    "new_mask2 = new_mask.copy()\n",
    "masks = []\n",
    "for m in range(16):\n",
    "    with h5py.File(path_to_recons + 'det/r0597/r0597_AGIPD%02d_v01_mask.h5' %m, 'r') as f:\n",
    "        masks.append(np.bool8(f['mask'][:]))\n",
    "masks = np.array(masks)\n",
    "combined_mask = np.transpose(masks.all(axis=1),axes=(0,2,1))"
   ]
  },
  {
   "cell_type": "code",
   "execution_count": null,
   "metadata": {},
   "outputs": [],
   "source": [
    "new_mask2[0][combined_mask[3, :,-128:]==0] = 2\n",
    "new_mask2[1][combined_mask[4, :,-128:]==0] = 2\n",
    "new_mask2[2][combined_mask[8, :,-128:]==0] = 2\n",
    "new_mask2[3][combined_mask[15,:,-128:]==0] = 2"
   ]
  },
  {
   "cell_type": "markdown",
   "metadata": {},
   "source": [
    "## Plot new mask"
   ]
  },
  {
   "cell_type": "code",
   "execution_count": null,
   "metadata": {},
   "outputs": [],
   "source": [
    "plt.figure(figsize=(5,5), dpi=100)\n",
    "plt.axis('off')\n",
    "plt.imshow(utils.assemble(np.transpose(new_mask2, axes=(0,2,1)), path_to_geometry + \"b2_lowq.geom\"), cmap='gray')\n",
    "plt.savefig(\"../../plots/lowq_mask2.png\", bbox_inches='tight')\n",
    "plt.show()"
   ]
  },
  {
   "cell_type": "markdown",
   "metadata": {},
   "source": [
    "## Save mask in new detector file (version 2)"
   ]
  },
  {
   "cell_type": "code",
   "execution_count": null,
   "metadata": {},
   "outputs": [],
   "source": [
    "new_detector = path_to_recons + \"det/det_2145_lowq2.h5\"\n",
    "os.system(\"cp %s %s\" %(emc_detector, new_detector))\n",
    "with h5py.File(new_detector, \"a\") as f:\n",
    "    f['mask'][:] = new_mask2.ravel()"
   ]
  },
  {
   "cell_type": "markdown",
   "metadata": {},
   "source": [
    "## Include circular mask to block high-q"
   ]
  },
  {
   "cell_type": "code",
   "execution_count": null,
   "metadata": {},
   "outputs": [],
   "source": [
    "new_mask3 = new_mask.copy()\n",
    "with h5py.File(emc_detector, \"r\") as f:\n",
    "    qx = f['qx'][:].reshape((4,128,128))\n",
    "    qy = f['qy'][:].reshape((4,128,128))"
   ]
  },
  {
   "cell_type": "code",
   "execution_count": null,
   "metadata": {},
   "outputs": [],
   "source": [
    "qr = np.sqrt(qx**2 + qy**2)\n",
    "new_mask3[qr>70] = 2"
   ]
  },
  {
   "cell_type": "code",
   "execution_count": null,
   "metadata": {},
   "outputs": [],
   "source": [
    "plt.imshow(utils.assemble(np.transpose(qr<70,axes=(0,2,1)), geomfile='../../geometry/b2_lowq.geom'))\n",
    "plt.show()"
   ]
  },
  {
   "cell_type": "code",
   "execution_count": null,
   "metadata": {},
   "outputs": [],
   "source": [
    "new_detector = path_to_recons + \"det/det_2145_lowq3.h5\"\n",
    "os.system(\"cp %s %s\" %(emc_detector, new_detector))\n",
    "with h5py.File(new_detector, \"a\") as f:\n",
    "    f['mask'][:] = new_mask3.ravel()"
   ]
  },
  {
   "cell_type": "markdown",
   "metadata": {},
   "source": [
    "## Prepare mask for merging with LCLS data"
   ]
  },
  {
   "cell_type": "code",
   "execution_count": null,
   "metadata": {},
   "outputs": [],
   "source": [
    "new_mask4 = new_mask.copy()\n",
    "with h5py.File(emc_detector, \"r\") as f:\n",
    "    qx = f['qx'][:].reshape((4,128,128))\n",
    "    qy = f['qy'][:].reshape((4,128,128))\n",
    "    qz = f['qz'][:].reshape((4,128,128))\n",
    "    print(list(f))\n",
    "    print(f['detd'][...])\n",
    "    print(f['ewald_rad'][...])\n",
    "    print(f['corr'][...])"
   ]
  },
  {
   "cell_type": "code",
   "execution_count": null,
   "metadata": {},
   "outputs": [],
   "source": [
    "qr = np.sqrt(qx**2 + qy**2)\n",
    "new_mask4[qr>50] = 2\n",
    "new_mask4[(qr>25) & (qr<=50) & (new_mask4 == 0)] = 1"
   ]
  },
  {
   "cell_type": "code",
   "execution_count": null,
   "metadata": {},
   "outputs": [],
   "source": [
    "active = utils.assemble(np.transpose(np.ones((4,128,128)),axes=(0,2,1)),geomfile='../../geometry/b2_lowq.geom')\n",
    "masked = utils.assemble(np.transpose(new_mask4,axes=(0,2,1)),geomfile='../../geometry/b2_lowq.geom')"
   ]
  },
  {
   "cell_type": "code",
   "execution_count": null,
   "metadata": {},
   "outputs": [],
   "source": [
    "cmap = cm.get_cmap('hot')\n",
    "cmap.set_bad('0.90')\n",
    "cmap.set_under('1.0')\n",
    "mimg = np.ma.masked_array(masked, mask=1-active)\n",
    "mimg.data[mimg.data==0] = 1e-10\n",
    "plt.figure(figsize=(15,10), dpi=200)\n",
    "plt.imshow(mimg, cmap=cmap)\n",
    "plt.gca().add_patch(plt.Circle((171,177),88, lw=1, fill=0, color='b'))\n",
    "plt.gca().add_patch(plt.Circle((171,177),44, lw=1, fill=0, color='g'))\n",
    "#plt.axis('off')\n",
    "plt.grid(color='y', ls=':')\n",
    "#plt.colorbar()\n",
    "plt.show()"
   ]
  },
  {
   "cell_type": "code",
   "execution_count": null,
   "metadata": {},
   "outputs": [],
   "source": [
    "new_detector = path_to_recons + \"det/det_2145_lowq4.h5\"\n",
    "os.system(\"cp %s %s\" %(emc_detector, new_detector))\n",
    "with h5py.File(new_detector, \"a\") as f:\n",
    "    f['mask'][:] = new_mask4.ravel()"
   ]
  },
  {
   "cell_type": "markdown",
   "metadata": {},
   "source": [
    "## Same as lowq4 but with all q's inside 50"
   ]
  },
  {
   "cell_type": "code",
   "execution_count": null,
   "metadata": {},
   "outputs": [],
   "source": [
    "new_mask5 = new_mask.copy()\n",
    "with h5py.File(emc_detector, \"r\") as f:\n",
    "    qx = f['qx'][:].reshape((4,128,128))\n",
    "    qy = f['qy'][:].reshape((4,128,128))"
   ]
  },
  {
   "cell_type": "code",
   "execution_count": null,
   "metadata": {},
   "outputs": [],
   "source": [
    "qr = np.sqrt(qx**2 + qy**2)\n",
    "new_mask5[qr>50] = 2"
   ]
  },
  {
   "cell_type": "code",
   "execution_count": null,
   "metadata": {},
   "outputs": [],
   "source": [
    "new_detector = path_to_recons + \"det/det_2145_lowq5.h5\"\n",
    "os.system(\"cp %s %s\" %(emc_detector, new_detector))\n",
    "with h5py.File(new_detector, \"a\") as f:\n",
    "    f['mask'][:] = new_mask5.ravel()"
   ]
  }
 ],
 "metadata": {
  "kernelspec": {
   "display_name": "Python 3",
   "language": "python",
   "name": "python3"
  },
  "language_info": {
   "codemirror_mode": {
    "name": "ipython",
    "version": 3
   },
   "file_extension": ".py",
   "mimetype": "text/x-python",
   "name": "python",
   "nbconvert_exporter": "python",
   "pygments_lexer": "ipython3",
   "version": "3.6.7"
  }
 },
 "nbformat": 4,
 "nbformat_minor": 2
}
