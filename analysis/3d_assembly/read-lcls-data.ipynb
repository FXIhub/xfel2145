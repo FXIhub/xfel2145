{
 "cells": [
  {
   "cell_type": "code",
   "execution_count": 3,
   "metadata": {},
   "outputs": [],
   "source": [
    "import h5py, sys, os\n",
    "import numpy as np\n",
    "import matplotlib.pyplot as plt\n",
    "import matplotlib.colors as colors\n",
    "import matplotlib.cm as cm"
   ]
  },
  {
   "cell_type": "code",
   "execution_count": 4,
   "metadata": {},
   "outputs": [],
   "source": [
    "path_to_data = \"../../data/sparse/\" # scratch/sparse on Maxwell\n",
    "path_to_aux = \"../../data/aux/\" # scratch/benedikt/aux on Maxwell\n",
    "path_to_geometry = \"../../geometry/\"\n",
    "path_to_recons = \"../../data/recons/\"\n",
    "path_to_lcls = \"../../data/lcls/\""
   ]
  },
  {
   "cell_type": "markdown",
   "metadata": {},
   "source": [
    "## LCLS data"
   ]
  },
  {
   "cell_type": "code",
   "execution_count": 5,
   "metadata": {},
   "outputs": [],
   "source": [
    "filename = path_to_lcls + \"original-avg_image.h5\"\n",
    "filename = path_to_lcls + \"subtracted-avg_image.h5\""
   ]
  },
  {
   "cell_type": "code",
   "execution_count": 6,
   "metadata": {},
   "outputs": [],
   "source": [
    "with h5py.File(filename, 'r') as f:\n",
    "    volume = np.fft.fftshift(f['real'][:])"
   ]
  },
  {
   "cell_type": "code",
   "execution_count": 7,
   "metadata": {},
   "outputs": [],
   "source": [
    "import mrcfile\n",
    "with mrcfile.new(filename[:-3] + '.mrc', overwrite=True) as mrc:\n",
    "    mrc.set_data(volume.astype(np.float32))"
   ]
  },
  {
   "cell_type": "code",
   "execution_count": 8,
   "metadata": {},
   "outputs": [
    {
     "data": {
      "text/plain": [
       "<matplotlib.image.AxesImage at 0x7f42ec1968d0>"
      ]
     },
     "execution_count": 8,
     "metadata": {},
     "output_type": "execute_result"
    },
    {
     "data": {
      "image/png": "[encoded data removed]",
      "text/plain": [
       "<Figure size 432x288 with 1 Axes>"
      ]
     },
     "metadata": {
      "needs_background": "light"
     },
     "output_type": "display_data"
    }
   ],
   "source": [
    "plt.imshow(volume[128//2])"
   ]
  },
  {
   "cell_type": "code",
   "execution_count": 9,
   "metadata": {},
   "outputs": [],
   "source": [
    "photon_energy_lcls = 1.2 # keV\n",
    "wavelength_lcls = 1240. / photon_energy_lcls / 1e3 # nm\n",
    "max_radius_lcls = 39 # mm\n",
    "distance_lcls = 732 # mm\n",
    "dx_lcls = .5 / ((2*np.sin(np.arctan2(max_radius_lcls, distance_lcls)/2.)) / wavelength_lcls) # nm"
   ]
  },
  {
   "cell_type": "code",
   "execution_count": 10,
   "metadata": {},
   "outputs": [
    {
     "name": "stdout",
     "output_type": "stream",
     "text": [
      "For the LCLS data, the real space voxels have a size of 9.71 nm\n"
     ]
    }
   ],
   "source": [
    "print(\"For the LCLS data, the real space voxels have a size of %.2f nm\" %dx_lcls)"
   ]
  },
  {
   "cell_type": "markdown",
   "metadata": {},
   "source": [
    "## XFEL data"
   ]
  },
  {
   "cell_type": "code",
   "execution_count": 11,
   "metadata": {},
   "outputs": [],
   "source": [
    "photon_energy_xfel = 6.01 # keV\n",
    "wavelength_xfel = 1240. / photon_energy_xfel / 1e3 # nm\n",
    "boxsize_xfel = 105\n",
    "max_radius_xfel = boxsize_xfel * 0.2 / 2. # mm\n",
    "distance_xfel = 705 # mm\n",
    "dx_xfel = .5 / ((2*np.sin(np.arctan2(max_radius_xfel, distance_xfel)/2.)) / wavelength_xfel) # nm"
   ]
  },
  {
   "cell_type": "code",
   "execution_count": 12,
   "metadata": {},
   "outputs": [
    {
     "name": "stdout",
     "output_type": "stream",
     "text": [
      "For the XFEL data, the real space voxels should have a size of 6.93\n"
     ]
    }
   ],
   "source": [
    "print(\"For the XFEL data, the real space voxels should have a size of %.2f\" %dx_xfel)"
   ]
  },
  {
   "cell_type": "markdown",
   "metadata": {},
   "source": [
    "## Interpolate the LCLS data to match the XFEL voxel size"
   ]
  },
  {
   "cell_type": "code",
   "execution_count": 15,
   "metadata": {},
   "outputs": [],
   "source": [
    "import scipy.ndimage as ndimage"
   ]
  },
  {
   "cell_type": "code",
   "execution_count": 24,
   "metadata": {},
   "outputs": [],
   "source": [
    "scaling = 1.0"
   ]
  },
  {
   "cell_type": "code",
   "execution_count": 25,
   "metadata": {},
   "outputs": [],
   "source": [
    "new_volume = ndimage.zoom(volume, scaling * dx_lcls/dx_xfel, order=1, mode='nearest')\n",
    "c = (new_volume.shape[0] - boxsize_xfel)/2.\n",
    "l = int(np.floor(c))\n",
    "r = int(np.ceil(c))\n",
    "new_volume = new_volume[l:-r,l:-r,l:-r]"
   ]
  },
  {
   "cell_type": "code",
   "execution_count": 26,
   "metadata": {},
   "outputs": [],
   "source": [
    "n = new_volume.shape[0]\n",
    "xx,yy,zz = np.meshgrid(np.arange(n)-n//2, np.arange(n)-n//2, np.arange(n)-n//2, indexing='ij')\n",
    "rr = np.sqrt(xx**2 + yy**2 + zz**2)\n",
    "mm = (rr < 25).astype(np.float64)\n",
    "mask = ndimage.gaussian_filter(mm,1)"
   ]
  },
  {
   "cell_type": "code",
   "execution_count": 27,
   "metadata": {},
   "outputs": [],
   "source": [
    "new_volume = np.fft.ifftn(np.fft.ifftshift(np.fft.fftshift(np.fft.fftn(new_volume)) * mask)).real"
   ]
  },
  {
   "cell_type": "code",
   "execution_count": 28,
   "metadata": {},
   "outputs": [
    {
     "data": {
      "image/png": "[encoded data removed]",
      "text/plain": [
       "<Figure size 432x288 with 2 Axes>"
      ]
     },
     "metadata": {
      "needs_background": "light"
     },
     "output_type": "display_data"
    }
   ],
   "source": [
    "plt.imshow(new_volume[new_volume.shape[0]//2].real, vmin=1, vmax=30)\n",
    "plt.colorbar()\n",
    "plt.show()"
   ]
  },
  {
   "cell_type": "code",
   "execution_count": 29,
   "metadata": {},
   "outputs": [],
   "source": [
    "import mrcfile\n",
    "with mrcfile.new(filename[:-3] + '_interp' + '.mrc', overwrite=True) as mrc:\n",
    "    mrc.set_data(new_volume.astype(np.float32))"
   ]
  },
  {
   "cell_type": "markdown",
   "metadata": {},
   "source": [
    "## Calculate intensity volume"
   ]
  },
  {
   "cell_type": "code",
   "execution_count": 30,
   "metadata": {},
   "outputs": [],
   "source": [
    "intensity = np.fft.fftshift(np.abs(np.fft.fftn(new_volume))**2)"
   ]
  },
  {
   "cell_type": "code",
   "execution_count": 31,
   "metadata": {},
   "outputs": [
    {
     "data": {
      "text/plain": [
       "<matplotlib.image.AxesImage at 0x7f42eae4ef28>"
      ]
     },
     "execution_count": 31,
     "metadata": {},
     "output_type": "execute_result"
    },
    {
     "data": {
      "image/png": "[encoded data removed]",
      "text/plain": [
       "<Figure size 432x288 with 1 Axes>"
      ]
     },
     "metadata": {
      "needs_background": "light"
     },
     "output_type": "display_data"
    }
   ],
   "source": [
    "plt.imshow(intensity[:,:,new_volume.shape[0]//2], norm=colors.LogNorm())"
   ]
  },
  {
   "cell_type": "code",
   "execution_count": 155,
   "metadata": {},
   "outputs": [],
   "source": [
    "with mrcfile.new(path_to_lcls + 'intensities_interp.mrc', overwrite=True) as mrc:\n",
    "    mrc.set_data(intensity.astype(np.float32))"
   ]
  },
  {
   "cell_type": "code",
   "execution_count": 159,
   "metadata": {},
   "outputs": [],
   "source": [
    "with h5py.File(path_to_recons + \"init.h5\", \"w\") as f:\n",
    "    f[\"intens\"] = intensity.astype(\"<f8\").reshape(1,n,n,n) * 5e-9\n",
    "    f['scale'] = np.ones(331436, dtype=np.int32)"
   ]
  },
  {
   "cell_type": "code",
   "execution_count": null,
   "metadata": {},
   "outputs": [],
   "source": []
  }
 ],
 "metadata": {
  "kernelspec": {
   "display_name": "Python 3",
   "language": "python",
   "name": "python3"
  },
  "language_info": {
   "codemirror_mode": {
    "name": "ipython",
    "version": 3
   },
   "file_extension": ".py",
   "mimetype": "text/x-python",
   "name": "python",
   "nbconvert_exporter": "python",
   "pygments_lexer": "ipython3",
   "version": "3.6.7"
  }
 },
 "nbformat": 4,
 "nbformat_minor": 2
}
